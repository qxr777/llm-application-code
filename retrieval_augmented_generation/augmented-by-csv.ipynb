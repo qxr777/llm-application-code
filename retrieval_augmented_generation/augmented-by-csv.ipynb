{
 "cells": [
  {
   "cell_type": "code",
   "id": "68ec9a8770811c76",
   "metadata": {
    "collapsed": true,
    "ExecuteTime": {
     "end_time": "2025-04-01T03:59:16.470438Z",
     "start_time": "2025-04-01T03:59:15.219741Z"
    }
   },
   "source": "!pip install langchain langchain_core openai tiktoken docarray pydantic --upgrade --quiet",
   "outputs": [],
   "execution_count": 66
  },
  {
   "cell_type": "markdown",
   "source": [
    "<a href = \"https://colab.research.google.com/github/qxr777/llm-application-code/blob/master/function_call/function-call-based-on-langchain.ipynb\"\n",
    "target = \"_parent\"> Open In Colab </a>"
   ],
   "metadata": {
    "collapsed": false
   },
   "id": "c7f20d6a3ccf99cb"
  },
  {
   "cell_type": "code",
   "source": [
    "# 三选一 加载OPENAI_API_KEY\n",
    "\n",
    "# 本地运行，包含.env文件\n",
    "from dotenv import load_dotenv\n",
    "load_dotenv(override=True)\n",
    "\n",
    "# 本地运行，不包含.env文件\n",
    "# import os\n",
    "# os.environ['OPENAI_API_KEY'] = 'sk-123456789'\n",
    "\n",
    "# google colab运行，需要配置secret key\n",
    "# import os\n",
    "# from google.colab import userdata\n",
    "\n",
    "# os.environ[\"OPENAI_API_KEY\"] = userdata.get('OPENAI_API_KEY')"
   ],
   "metadata": {
    "collapsed": false,
    "ExecuteTime": {
     "end_time": "2025-04-01T03:59:16.476246Z",
     "start_time": "2025-04-01T03:59:16.471931Z"
    }
   },
   "id": "initial_id",
   "outputs": [
    {
     "data": {
      "text/plain": [
       "True"
      ]
     },
     "execution_count": 67,
     "metadata": {},
     "output_type": "execute_result"
    }
   ],
   "execution_count": 67
  },
  {
   "cell_type": "code",
   "source": [
    "from langchain.chains import RetrievalQA  #检索QA链，在文档上进行检索\n",
    "from langchain.document_loaders import CSVLoader #文档加载器，采用csv格式存储\n",
    "from langchain.vectorstores import DocArrayInMemorySearch  #向量存储\n",
    "from IPython.display import display, Markdown #在jupyter显示信息的工具\n",
    "import pandas as pd\n",
    "\n",
    "file = './data/OutdoorClothingCatalog_1000.csv'\n",
    "\n",
    "# 使用langchain文档加载器对数据进行导入\n",
    "loader = CSVLoader(file_path=file)\n",
    "\n",
    "# 使用pandas导入数据，用以查看\n",
    "data = pd.read_csv(file,usecols=[1, 2])\n",
    "data.head()"
   ],
   "metadata": {
    "collapsed": false,
    "ExecuteTime": {
     "end_time": "2025-04-01T03:59:16.513435Z",
     "start_time": "2025-04-01T03:59:16.477439Z"
    }
   },
   "id": "3559e9f3c84e26cc",
   "outputs": [
    {
     "data": {
      "text/plain": [
       "                                                name  \\\n",
       "0                           Women's Campside Oxfords   \n",
       "1           Recycled Waterhog Dog Mat, Chevron Weave   \n",
       "2  Infant and Toddler Girls' Coastal Chill Swimsu...   \n",
       "3         Refresh Swimwear, V-Neck Tankini Contrasts   \n",
       "4                             EcoFlex 3L Storm Pants   \n",
       "\n",
       "                                         description  \n",
       "0  This ultracomfortable lace-to-toe Oxford boast...  \n",
       "1  Protect your floors from spills and splashing ...  \n",
       "2  She'll love the bright colors, ruffles and exc...  \n",
       "3  Whether you're going for a swim or heading out...  \n",
       "4  Our new TEK O2 technology makes our four-seaso...  "
      ],
      "text/html": [
       "<div>\n",
       "<style scoped>\n",
       "    .dataframe tbody tr th:only-of-type {\n",
       "        vertical-align: middle;\n",
       "    }\n",
       "\n",
       "    .dataframe tbody tr th {\n",
       "        vertical-align: top;\n",
       "    }\n",
       "\n",
       "    .dataframe thead th {\n",
       "        text-align: right;\n",
       "    }\n",
       "</style>\n",
       "<table border=\"1\" class=\"dataframe\">\n",
       "  <thead>\n",
       "    <tr style=\"text-align: right;\">\n",
       "      <th></th>\n",
       "      <th>name</th>\n",
       "      <th>description</th>\n",
       "    </tr>\n",
       "  </thead>\n",
       "  <tbody>\n",
       "    <tr>\n",
       "      <th>0</th>\n",
       "      <td>Women's Campside Oxfords</td>\n",
       "      <td>This ultracomfortable lace-to-toe Oxford boast...</td>\n",
       "    </tr>\n",
       "    <tr>\n",
       "      <th>1</th>\n",
       "      <td>Recycled Waterhog Dog Mat, Chevron Weave</td>\n",
       "      <td>Protect your floors from spills and splashing ...</td>\n",
       "    </tr>\n",
       "    <tr>\n",
       "      <th>2</th>\n",
       "      <td>Infant and Toddler Girls' Coastal Chill Swimsu...</td>\n",
       "      <td>She'll love the bright colors, ruffles and exc...</td>\n",
       "    </tr>\n",
       "    <tr>\n",
       "      <th>3</th>\n",
       "      <td>Refresh Swimwear, V-Neck Tankini Contrasts</td>\n",
       "      <td>Whether you're going for a swim or heading out...</td>\n",
       "    </tr>\n",
       "    <tr>\n",
       "      <th>4</th>\n",
       "      <td>EcoFlex 3L Storm Pants</td>\n",
       "      <td>Our new TEK O2 technology makes our four-seaso...</td>\n",
       "    </tr>\n",
       "  </tbody>\n",
       "</table>\n",
       "</div>"
      ]
     },
     "execution_count": 68,
     "metadata": {},
     "output_type": "execute_result"
    }
   ],
   "execution_count": 68
  },
  {
   "cell_type": "code",
   "source": [
    "#导入向量存储索引创建器\n",
    "from langchain.indexes import VectorstoreIndexCreator \n",
    "from langchain.embeddings import OpenAIEmbeddings\n",
    "\n",
    "\n",
    "# 创建指定向量存储类, 创建完成后，从加载器中调用, 通过文档加载器列表加载\n",
    "index = VectorstoreIndexCreator(embedding = OpenAIEmbeddings(),vectorstore_cls=DocArrayInMemorySearch).from_loaders([loader])"
   ],
   "metadata": {
    "collapsed": false,
    "ExecuteTime": {
     "end_time": "2025-04-01T03:59:29.942514Z",
     "start_time": "2025-04-01T03:59:16.514966Z"
    }
   },
   "id": "20c752309b436b83",
   "outputs": [],
   "execution_count": 69
  },
  {
   "cell_type": "code",
   "source": [
    "from langchain.chat_models import ChatOpenAI\n",
    "\n",
    "# 创建 LLM 实例\n",
    "llm = ChatOpenAI(model_name=\"gpt-4o-mini\", temperature=0.0)\n",
    "\n",
    "query =\"请用markdown表格的方式列出所有具有防晒功能的衬衫，对每件衬衫描述进行总结\"\n",
    "\n",
    "#使用索引查询创建一个响应，并传入这个查询\n",
    "response = index.query(query, llm=llm)\n",
    "\n",
    "#查看查询返回的内容\n",
    "display(Markdown(response))"
   ],
   "metadata": {
    "collapsed": false,
    "ExecuteTime": {
     "end_time": "2025-04-01T03:59:36.115430Z",
     "start_time": "2025-04-01T03:59:29.943421Z"
    }
   },
   "id": "597a1553a09be19",
   "outputs": [
    {
     "data": {
      "text/plain": [
       "<IPython.core.display.Markdown object>"
      ],
      "text/markdown": "| 衬衫名称                                   | 防晒等级 | 材质                       | 特点                                                       |\n|-----------------------------------------|---------|--------------------------|----------------------------------------------------------|\n| Men's Tropical Plaid Short-Sleeve Shirt | UPF 50+ | 100% polyester           | 传统合身设计，抗皱面料，前后通风，两个前口袋，阻挡98%的有害阳光。     |\n| Men's Plaid Tropic Shirt, Short-Sleeve | UPF 50+ | 52% polyester, 48% nylon | 轻便设计，适合钓鱼与旅行，快速干燥抗皱，前后通风，两个前口袋，阻挡98%的有害阳光。 |\n| Girls' Ocean Breeze Long-Sleeve Stripe Shirt | UPF 50+ | Nylon Lycra®-elastane   | 长袖防护，快速干燥，褪色抗性强，保持形状，推荐用于海滩或泳池，阻挡98%的有害阳光。 |"
     },
     "metadata": {},
     "output_type": "display_data"
    }
   ],
   "execution_count": 70
  },
  {
   "cell_type": "code",
   "source": [
    "#创建一个文档加载器，通过csv格式加载\n",
    "file = './data/OutdoorClothingCatalog_1000.csv'\n",
    "loader = CSVLoader(file_path=file)\n",
    "docs = loader.load()\n",
    "\n",
    "#查看单个文档，每个文档对应于CSV中的一行数据\n",
    "docs[0]"
   ],
   "metadata": {
    "collapsed": false,
    "ExecuteTime": {
     "end_time": "2025-04-01T03:59:36.137880Z",
     "start_time": "2025-04-01T03:59:36.117236Z"
    }
   },
   "id": "988245cb0054fd3b",
   "outputs": [
    {
     "data": {
      "text/plain": [
       "Document(metadata={'source': './data/OutdoorClothingCatalog_1000.csv', 'row': 0}, page_content=\": 0\\nname: Women's Campside Oxfords\\ndescription: This ultracomfortable lace-to-toe Oxford boasts a super-soft canvas, thick cushioning, and quality construction for a broken-in feel from the first time you put them on.\\n\\nSize & Fit: Order regular shoe size. For half sizes not offered, order up to next whole size.\\n\\nSpecs: Approx. weight: 1 lb.1 oz. per pair.\\n\\nConstruction: Soft canvas material for a broken-in feel and look. Comfortable EVA innersole with Cleansport NXT® antimicrobial odor control. Vintage hunt, fish and camping motif on innersole. Moderate arch contour of innersole. EVA foam midsole for cushioning and support. Chain-tread-inspired molded rubber outsole with modified chain-tread pattern. Imported.\\n\\nQuestions? Please contact us for any inquiries.\")"
      ]
     },
     "execution_count": 71,
     "metadata": {},
     "output_type": "execute_result"
    }
   ],
   "execution_count": 71
  },
  {
   "cell_type": "code",
   "source": [
    "#使用OpenAIEmbedding类\n",
    "from langchain.embeddings import OpenAIEmbeddings \n",
    "\n",
    "embeddings = OpenAIEmbeddings() \n",
    "\n",
    "#因为文档比较短了，所以这里不需要进行任何分块,可以直接进行向量表征\n",
    "#使用初始化OpenAIEmbedding实例上的查询方法embed_query为文本创建向量表征\n",
    "embed = embeddings.embed_query(\"你好呀，我的名字叫小可爱\")\n",
    "\n",
    "#查看得到向量表征的长度\n",
    "print(\"\\n\\033[32m向量表征的长度: \\033[0m \\n\", len(embed))\n",
    "\n",
    "#每个元素都是不同的数字值，组合起来就是文本的向量表征\n",
    "print(\"\\n\\033[32m向量表征前5个元素: \\033[0m \\n\", embed[:5])"
   ],
   "metadata": {
    "collapsed": false,
    "ExecuteTime": {
     "end_time": "2025-04-01T03:59:37.189329Z",
     "start_time": "2025-04-01T03:59:36.139076Z"
    }
   },
   "id": "c477827d24e97860",
   "outputs": [
    {
     "name": "stdout",
     "output_type": "stream",
     "text": [
      "\n",
      "\u001B[32m向量表征的长度: \u001B[0m \n",
      " 1536\n",
      "\n",
      "\u001B[32m向量表征前5个元素: \u001B[0m \n",
      " [-0.019507119375628136, -0.006559411205470766, -0.007357948209641259, -0.024298340469328435, -0.02679535435881432]\n"
     ]
    }
   ],
   "execution_count": 72
  },
  {
   "cell_type": "code",
   "source": [
    "# 将刚才创建文本向量表征(embeddings)存储在向量存储(vector store)中\n",
    "# 使用DocArrayInMemorySearch类的from_documents方法来实现\n",
    "# 该方法接受文档列表以及向量表征模型作为输入\n",
    "db = DocArrayInMemorySearch.from_documents(docs, embeddings)\n",
    "\n",
    "query = \"请推荐一件具有防晒功能的衬衫\"\n",
    "#使用上面的向量存储来查找与传入查询类似的文本，得到一个相似文档列表\n",
    "docs = db.similarity_search(query)\n",
    "print(\"\\n\\033[32m返回文档的个数: \\033[0m \\n\", len(docs))\n",
    "print(\"\\n\\033[32m第一个文档: \\033[0m \\n\", docs[0])"
   ],
   "metadata": {
    "collapsed": false,
    "ExecuteTime": {
     "end_time": "2025-04-01T03:59:50.150615Z",
     "start_time": "2025-04-01T03:59:37.192274Z"
    }
   },
   "id": "7eb40fad1e58b07a",
   "outputs": [
    {
     "name": "stdout",
     "output_type": "stream",
     "text": [
      "\n",
      "\u001B[32m返回文档的个数: \u001B[0m \n",
      " 4\n",
      "\n",
      "\u001B[32m第一个文档: \u001B[0m \n",
      " page_content=': 535\n",
      "name: Men's TropicVibe Shirt, Short-Sleeve\n",
      "description: This Men’s sun-protection shirt with built-in UPF 50+ has the lightweight feel you want and the coverage you need when the air is hot and the UV rays are strong. Size & Fit: Traditional Fit: Relaxed through the chest, sleeve and waist. Fabric & Care: Shell: 71% Nylon, 29% Polyester. Lining: 100% Polyester knit mesh. UPF 50+ rated – the highest rated sun protection possible. Machine wash and dry. Additional Features: Wrinkle resistant. Front and back cape venting lets in cool breezes. Two front bellows pockets. Imported.\n",
      "\n",
      "Sun Protection That Won't Wear Off: Our high-performance fabric provides SPF 50+ sun protection, blocking 98% of the sun's harmful rays.' metadata={'source': './data/OutdoorClothingCatalog_1000.csv', 'row': 535}\n"
     ]
    }
   ],
   "execution_count": 73
  },
  {
   "cell_type": "code",
   "source": [
    "#使用gpt-4o-mini\n",
    "llm = ChatOpenAI(model_name=\"gpt-4o-mini\",temperature = 0.0) \n",
    "\n",
    "#合并获得的相似文档内容\n",
    "qdocs = \"\".join([docs[i].page_content for i in range(len(docs))])  \n",
    "\n",
    "\n",
    "#将合并的相似文档内容后加上问题（question）输入到 `llm.call_as_llm`中\n",
    "#这里问题是：以Markdown表格的方式列出所有具有防晒功能的衬衫并总结 \n",
    "response = llm.call_as_llm(f\"{qdocs}问题：请用markdown表格的方式列出所有具有防晒功能的衬衫，对每件衬衫描述进行总结\") \n",
    "\n",
    "display(Markdown(response))"
   ],
   "metadata": {
    "collapsed": false,
    "ExecuteTime": {
     "end_time": "2025-04-01T03:59:54.893369Z",
     "start_time": "2025-04-01T03:59:50.247555Z"
    }
   },
   "id": "649ad0c2135257cb",
   "outputs": [
    {
     "data": {
      "text/plain": [
       "<IPython.core.display.Markdown object>"
      ],
      "text/markdown": "以下是所有具有防晒功能的衬衫的总结，以Markdown表格的形式列出：\n\n```markdown\n| 名称                                    | 描述                                                                                                                                    |\n|---------------------------------------|---------------------------------------------------------------------------------------------------------------------------------------|\n| Men's TropicVibe Shirt, Short-Sleeve | 男士防晒衬衫，UPF 50+，材质轻便，透气，适合炎热天气。传统合身设计，前后通风开口，两个前口袋，防皱，机器洗涤和干燥。                                     |\n| Men's Plaid Tropic Shirt, Short-Sleeve | 男士短袖格子衬衫，UPF 50+，轻便舒适，适合钓鱼与旅行。采用速干面料，具备前后通风和两个前口袋；机洗机干，防皱面料。                                     |\n| Girls' Ocean Breeze Long-Sleeve Stripe Shirt | 女孩长袖防晒衬衫，UPF 50+，尼龙氨纶混合材质。快干、抗褪色，保持形状，耐海水，适合与泳衣搭配。机器洗涤，建议晾干。                     |\n| Men's Tropical Plaid Short-Sleeve Shirt | 男士热带格子短袖衬衫，UPF 50+，100%聚酯纤维制作，轻便且防皱。具备前后通风以及两个前口袋，提供优质的防晒保护，适合炎热天气。                 |\n```\n\n这个表格总结了每件衬衫的名称和相关的描述信息，以便于查看和比较。"
     },
     "metadata": {},
     "output_type": "display_data"
    }
   ],
   "execution_count": 74
  },
  {
   "cell_type": "markdown",
   "source": [
    "### 2.5 使用检索问答链来回答问题\n",
    "\n",
    "通过LangChain创建一个检索问答链，对检索到的文档进行问题回答。检索问答链的输入包含以下\n",
    "- `llm`: 语言模型，进行文本生成\n",
    "- `chain_type`: 传入链类型，这里使用stuff，将所有查询得到的文档组合成一个文档传入下一步。其他的方式包括：\n",
    "    -  Map Reduce： 将所有块与问题一起传递给语言模型，获取回复，使用另一个语言模型调用将所有单独的回复总结成最终答案，它可以在任意数量的文档上运行。可以并行处理单个问题，同时也需要更多的调用。它将所有文档视为独立的\n",
    "    - Refine： 用于循环许多文档，际上是迭代的，建立在先前文档的答案之上，非常适合前后因果信息并随时间逐步构建答案，依赖于先前调用的结果。它通常需要更长的时间，并且基本上需要与Map Reduce一样多的调用\n",
    "    - Map Re-rank： 对每个文档进行单个语言模型调用，要求它返回一个分数，选择最高分，这依赖于语言模型知道分数应该是什么，需要告诉它，如果它与文档相关，则应该是高分，并在那里精细调整说明，可以批量处理它们相对较快，但是更加昂贵\n",
    "  \n",
    "![](../../../figures/docs/C3/3_additional%20methods.png)\n",
    "  \n",
    "- `retriever`:检索器"
   ],
   "metadata": {
    "collapsed": false
   },
   "id": "7a11ae0e90024d8e"
  },
  {
   "cell_type": "code",
   "source": [
    "#基于向量储存，创建检索器\n",
    "retriever = db.as_retriever() \n",
    "\n",
    "qa_stuff = RetrievalQA.from_chain_type(\n",
    "    llm=llm, \n",
    "    chain_type=\"stuff\", \n",
    "    retriever=retriever, \n",
    "    verbose=True\n",
    ")\n",
    "\n",
    "#创建一个查询并在此查询上运行链\n",
    "query =  \"请用markdown表格的方式列出所有具有防晒功能的衬衫，对每件衬衫描述进行总结\"\n",
    "\n",
    "response = qa_stuff.run(query)\n",
    "\n",
    "display(Markdown(response)) "
   ],
   "metadata": {
    "collapsed": false,
    "ExecuteTime": {
     "end_time": "2025-04-01T03:59:58.846322Z",
     "start_time": "2025-04-01T03:59:54.897869Z"
    }
   },
   "id": "d72682f40e4e88b7",
   "outputs": [
    {
     "name": "stderr",
     "output_type": "stream",
     "text": [
      "Error in StdOutCallbackHandler.on_chain_start callback: AttributeError(\"'NoneType' object has no attribute 'get'\")\n"
     ]
    },
    {
     "name": "stdout",
     "output_type": "stream",
     "text": [
      "\n",
      "\u001B[1m> Finished chain.\u001B[0m\n"
     ]
    },
    {
     "data": {
      "text/plain": [
       "<IPython.core.display.Markdown object>"
      ],
      "text/markdown": "| 产品名称                            | 防晒等级 | 材料                | 特点概述                                                         |\n|-----------------------------------|----------|-------------------|----------------------------------------------------------------|\n| Men's Tropical Plaid Short-Sleeve Shirt | UPF 50+  | 100% 聚酯            | 轻薄，抗皱，通风，两个前部口袋，提供最高等级的防晒保护。                             |\n| Men's Plaid Tropic Shirt, Short-Sleeve   | UPF 50+  | 52% 聚酯，48% 尼龙   | 超舒适，速干，防皱，通风，有两个前口袋，适合钓鱼和旅行。                              |\n| Girls' Ocean Breeze Long-Sleeve Stripe Shirt | UPF 50+  | 尼龙 Lycra®-弹性纤维混合 | 长袖，全面覆盖，快速干燥，耐海水，推荐的UV保护，适合海滩和泳池使用。                |\n| Men's TropicVibe Shirt, Short-Sleeve     | UPF 50+  | 71% 尼龙，29% 聚酯     | 轻便，舒适，抗皱，通风，两个前口袋，提供最高等级的防晒保护。                             |"
     },
     "metadata": {},
     "output_type": "display_data"
    }
   ],
   "execution_count": 75
  }
 ],
 "metadata": {
  "kernelspec": {
   "display_name": "Python 3",
   "language": "python",
   "name": "python3"
  },
  "language_info": {
   "codemirror_mode": {
    "name": "ipython",
    "version": 2
   },
   "file_extension": ".py",
   "mimetype": "text/x-python",
   "name": "python",
   "nbconvert_exporter": "python",
   "pygments_lexer": "ipython2",
   "version": "2.7.6"
  }
 },
 "nbformat": 4,
 "nbformat_minor": 5
}
