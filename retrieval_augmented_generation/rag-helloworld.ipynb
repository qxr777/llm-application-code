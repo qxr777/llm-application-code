{
 "cells": [
  {
   "cell_type": "code",
   "id": "initial_id",
   "metadata": {
    "collapsed": true,
    "ExecuteTime": {
     "end_time": "2025-04-01T02:16:01.215737Z",
     "start_time": "2025-04-01T02:16:00.288423Z"
    }
   },
   "source": "!pip install langchain langchain_openai faiss-cpu --upgrade --quiet",
   "outputs": [],
   "execution_count": 136
  },
  {
   "cell_type": "markdown",
   "source": [
    "<a href = \"https://colab.research.google.com/github/qxr777/llm-application-code/blob/master/retrieval_augmented_generation/rag-helloworld.ipynb\"\n",
    "target = \"_parent\"> Open In Colab </a>"
   ],
   "metadata": {
    "collapsed": false
   },
   "id": "edb3e3c1a742c5bc"
  },
  {
   "cell_type": "code",
   "source": [
    "# 三选一 加载OPENAI_API_KEY\n",
    "\n",
    "# 本地运行，包含.env文件\n",
    "from dotenv import load_dotenv\n",
    "load_dotenv(override=True)\n",
    "\n",
    "# 本地运行，不包含.env文件\n",
    "# import os\n",
    "# os.environ['OPENAI_API_KEY'] = 'sk-123456789'\n",
    "\n",
    "# google colab运行，需要配置secret key\n",
    "# import os\n",
    "# from google.colab import userdata\n",
    "# \n",
    "# os.environ[\"OPENAI_API_KEY\"] = userdata.get('OPENAI_API_KEY')"
   ],
   "metadata": {
    "collapsed": false,
    "ExecuteTime": {
     "end_time": "2025-04-01T02:16:01.224027Z",
     "start_time": "2025-04-01T02:16:01.217693Z"
    }
   },
   "id": "e45b371e1d64bad7",
   "outputs": [
    {
     "data": {
      "text/plain": [
       "True"
      ]
     },
     "execution_count": 137,
     "metadata": {},
     "output_type": "execute_result"
    }
   ],
   "execution_count": 137
  },
  {
   "cell_type": "code",
   "source": [
    "from langchain.text_splitter import RecursiveCharacterTextSplitter\n",
    "from langchain_community.vectorstores.faiss import FAISS\n",
    "from langchain_core.documents import Document\n",
    "from langchain_core.output_parsers import StrOutputParser\n",
    "from langchain_core.prompts import ChatPromptTemplate\n",
    "from langchain_core.runnables import RunnablePassthrough\n",
    "from langchain_openai import OpenAIEmbeddings, ChatOpenAI"
   ],
   "metadata": {
    "collapsed": false,
    "ExecuteTime": {
     "end_time": "2025-04-01T02:16:01.229487Z",
     "start_time": "2025-04-01T02:16:01.225544Z"
    }
   },
   "id": "43d06ed9ed1d302c",
   "outputs": [],
   "execution_count": 138
  },
  {
   "cell_type": "code",
   "source": [
    "# 创建LLM\n",
    "model = 'gpt-4o-mini'\n",
    "llm = ChatOpenAI(model=model)"
   ],
   "metadata": {
    "collapsed": false,
    "ExecuteTime": {
     "end_time": "2025-04-01T02:16:01.315818Z",
     "start_time": "2025-04-01T02:16:01.232132Z"
    }
   },
   "id": "7cb83e8589cbc822",
   "outputs": [],
   "execution_count": 139
  },
  {
   "cell_type": "code",
   "source": [
    "# 创建Prompt\n",
    "prompt = ChatPromptTemplate.from_template('基于上下文：{context}\\n回答：{input}')"
   ],
   "metadata": {
    "collapsed": false,
    "ExecuteTime": {
     "end_time": "2025-04-01T02:16:01.318849Z",
     "start_time": "2025-04-01T02:16:01.316578Z"
    }
   },
   "id": "bf7ba0c9470bffc8",
   "outputs": [],
   "execution_count": 140
  },
  {
   "cell_type": "code",
   "source": [
    "# 创建输出解析器\n",
    "output_parser = StrOutputParser()"
   ],
   "metadata": {
    "collapsed": false,
    "ExecuteTime": {
     "end_time": "2025-04-01T02:16:01.321444Z",
     "start_time": "2025-04-01T02:16:01.319514Z"
    }
   },
   "id": "d9ddf4cebf150477",
   "outputs": [],
   "execution_count": 141
  },
  {
   "cell_type": "code",
   "source": [
    "# 模拟文档\n",
    "docs = [Document(page_content=\"课程代码 01041110\t课程名称 企业级应用软件设计与开发\t课程大类 专业学位硕士类课程\t班级 23硕士合班\t学生数 165\t周次 2-14\t时间 【星期四】9,10,11节\t上课地点 马区西-东教学楼-133(西东教-合一)\t\")]"
   ],
   "metadata": {
    "collapsed": false,
    "ExecuteTime": {
     "end_time": "2025-04-01T02:16:01.324929Z",
     "start_time": "2025-04-01T02:16:01.322935Z"
    }
   },
   "id": "8f7c51995095f057",
   "outputs": [],
   "execution_count": 142
  },
  {
   "cell_type": "code",
   "source": [
    "# 文档嵌入\n",
    "splits = RecursiveCharacterTextSplitter().split_documents(docs)\n",
    "vector_store = FAISS.from_documents(splits, OpenAIEmbeddings())\n",
    "retriever = vector_store.as_retriever()"
   ],
   "metadata": {
    "collapsed": false,
    "ExecuteTime": {
     "end_time": "2025-04-01T02:16:02.878461Z",
     "start_time": "2025-04-01T02:16:01.325588Z"
    }
   },
   "id": "cdf3cf9ef8ccf0de",
   "outputs": [],
   "execution_count": 143
  },
  {
   "cell_type": "code",
   "source": [
    "# 创建Chain\n",
    "chain_no_context = RunnablePassthrough() | llm | output_parser\n",
    "chain = (\n",
    "    {\"context\": retriever, \"input\": RunnablePassthrough()}\n",
    "    | prompt | llm | output_parser\n",
    ")"
   ],
   "metadata": {
    "collapsed": false,
    "ExecuteTime": {
     "end_time": "2025-04-01T02:16:02.887004Z",
     "start_time": "2025-04-01T02:16:02.880548Z"
    }
   },
   "id": "b52607612fb177e7",
   "outputs": [],
   "execution_count": 144
  },
  {
   "cell_type": "code",
   "source": [
    "# 调用Chain\n",
    "question = '企业级应用软件设计与开发的上课地点在哪里？'\n",
    "\n",
    "# 调用没有上下文的chain\n",
    "response_no_context = chain_no_context.invoke(question)\n",
    "print(\"没有上下文的回答：\")\n",
    "print(response_no_context)\n",
    "print(\"\\n\")\n",
    "\n",
    "# 调用包含上下文的chain\n",
    "response_with_context = chain.invoke(question)\n",
    "print(\"包含上下文的回答：\")\n",
    "print(response_with_context)\n"
   ],
   "metadata": {
    "collapsed": false,
    "ExecuteTime": {
     "end_time": "2025-04-01T02:16:07.800272Z",
     "start_time": "2025-04-01T02:16:02.893507Z"
    }
   },
   "id": "cc9b1b5687019150",
   "outputs": [
    {
     "name": "stdout",
     "output_type": "stream",
     "text": [
      "没有上下文的回答：\n",
      "企业级应用软件设计与开发的课程地点通常取决于具体的教育机构或培训中心。如果你是在大学或职业学院学习，课程地点可能是在校园内的特定教室。如果你参加的是在线课程，那么上课地点则是在你自己的设备上。\n",
      "\n",
      "为了得到准确的信息，建议你查看具体教育机构的官方网站或联系相关的教学部门，以获取最新的上课地点信息。\n",
      "\n",
      "\n",
      "包含上下文的回答：\n",
      "企业级应用软件设计与开发的上课地点是马区西-东教学楼-133(西东教-合一)。\n"
     ]
    }
   ],
   "execution_count": 145
  }
 ],
 "metadata": {
  "kernelspec": {
   "display_name": "Python 3",
   "language": "python",
   "name": "python3"
  },
  "language_info": {
   "codemirror_mode": {
    "name": "ipython",
    "version": 2
   },
   "file_extension": ".py",
   "mimetype": "text/x-python",
   "name": "python",
   "nbconvert_exporter": "python",
   "pygments_lexer": "ipython2",
   "version": "2.7.6"
  }
 },
 "nbformat": 4,
 "nbformat_minor": 5
}
