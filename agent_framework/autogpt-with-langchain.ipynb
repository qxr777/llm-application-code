{
 "nbformat": 4,
 "nbformat_minor": 0,
 "metadata": {
  "colab": {
   "provenance": [],
   "authorship_tag": "ABX9TyPbmzjXA4BB2FcG8A9hMjRN",
   "include_colab_link": true
  },
  "kernelspec": {
   "name": "python3",
   "language": "python",
   "display_name": "Python 3 (ipykernel)"
  },
  "language_info": {
   "name": "python"
  }
 },
 "cells": [
  {
   "cell_type": "markdown",
   "metadata": {
    "id": "view-in-github",
    "colab_type": "text"
   },
   "source": [
    "<a href=\"https://colab.research.google.com/github/qxr777/llm-application-code/blob/master/agent_framework/autogpt-with-langchain.ipynb\" target=\"_parent\"><img src=\"https://colab.research.google.com/assets/colab-badge.svg\" alt=\"Open In Colab\"/></a>"
   ]
  },
  {
   "cell_type": "markdown",
   "source": [
    "## Planning 设计模式示例"
   ],
   "metadata": {
    "collapsed": false
   }
  },
  {
   "cell_type": "code",
   "execution_count": 2,
   "outputs": [
    {
     "name": "stdout",
     "output_type": "stream",
     "text": [
      "\u001B[31mERROR: pip's dependency resolver does not currently take into account all the packages that are installed. This behaviour is the source of the following dependency conflicts.\r\n",
      "openai-functions-tool-retrieval-agent 0.0.1 requires tiktoken<0.6.0,>=0.5.1, but you have tiktoken 0.6.0 which is incompatible.\u001B[0m\u001B[31m\r\n",
      "\u001B[0m"
     ]
    }
   ],
   "source": [
    "!pip install langchain langchain_experimental openai tiktoken google-search-results chromadb -qU"
   ],
   "metadata": {
    "collapsed": false,
    "ExecuteTime": {
     "end_time": "2024-04-20T01:44:46.192144Z",
     "start_time": "2024-04-20T01:44:33.147527Z"
    }
   }
  },
  {
   "cell_type": "code",
   "execution_count": 3,
   "outputs": [
    {
     "data": {
      "text/plain": "True"
     },
     "execution_count": 3,
     "metadata": {},
     "output_type": "execute_result"
    }
   ],
   "source": [
    "# 三选一 加载OPENAI_API_KEY\n",
    "\n",
    "# 本地运行，包含.env文件\n",
    "# from dotenv import load_dotenv\n",
    "# load_dotenv()\n",
    "\n",
    "# 本地运行，不包含.env文件\n",
    "# import os\n",
    "# os.environ['SERPAPI_API_KEY'] = 'you serp api key'\n",
    "# os.environ['OPENAI_API_KEY'] = 'sk-123456789'\n",
    "\n",
    "# google colab运行，需要配置secret key\n",
    "import os\n",
    "from google.colab import userdata\n",
    "os.environ[\"OPENAI_API_KEY\"] = userdata.get('OPENAI_API_KEY')\n",
    "os.environ[\"SERPAPI_API_KEY\"] = userdata.get('SERPAPI_API_KEY')"
   ],
   "metadata": {
    "collapsed": false,
    "ExecuteTime": {
     "end_time": "2024-04-20T01:44:50.582677Z",
     "start_time": "2024-04-20T01:44:50.528393Z"
    }
   }
  },
  {
   "cell_type": "code",
   "source": [
    "from langchain.utilities import SerpAPIWrapper\n",
    "from langchain.agents import Tool\n",
    "from langchain.tools.file_management.write import WriteFileTool\n",
    "from langchain.tools.file_management.read import ReadFileTool\n",
    "\n",
    "search = SerpAPIWrapper()\n",
    "tools = [\n",
    "    Tool(\n",
    "        name = \"search\",\n",
    "        func=search.run,\n",
    "        description=\"useful for when you need to answer questions about current events. You should ask targeted questions\"\n",
    "    ),\n",
    "    WriteFileTool(),\n",
    "    ReadFileTool(),\n",
    "]\n"
   ],
   "metadata": {
    "id": "kEx9NAEqFCVn",
    "ExecuteTime": {
     "end_time": "2024-04-23T08:17:59.516637Z",
     "start_time": "2024-04-23T08:17:59.200857Z"
    }
   },
   "execution_count": 53,
   "outputs": []
  },
  {
   "cell_type": "code",
   "source": [
    "from langchain_openai import OpenAIEmbeddings\n",
    "embedding = OpenAIEmbeddings()"
   ],
   "metadata": {
    "id": "yv3HhyiQGeao",
    "ExecuteTime": {
     "end_time": "2024-04-23T08:18:08.733867Z",
     "start_time": "2024-04-23T08:18:06.996762Z"
    }
   },
   "execution_count": 54,
   "outputs": []
  },
  {
   "cell_type": "code",
   "source": [
    "from langchain.vectorstores import Chroma\n",
    "\n",
    "vectordb = Chroma(persist_directory=\"./chroma\", embedding_function=embedding)"
   ],
   "metadata": {
    "id": "EN-99CgRGF4y",
    "ExecuteTime": {
     "end_time": "2024-04-23T08:18:11.479182Z",
     "start_time": "2024-04-23T08:18:11.225321Z"
    }
   },
   "execution_count": 55,
   "outputs": []
  },
  {
   "cell_type": "code",
   "source": [
    "from langchain_experimental.autonomous_agents import AutoGPT\n",
    "from langchain_openai import ChatOpenAI"
   ],
   "metadata": {
    "id": "nCqS4oHKGtWe",
    "ExecuteTime": {
     "end_time": "2024-04-23T08:18:39.315609Z",
     "start_time": "2024-04-23T08:18:39.293570Z"
    }
   },
   "execution_count": 56,
   "outputs": []
  },
  {
   "cell_type": "code",
   "source": [
    "agent = AutoGPT.from_llm_and_tools(\n",
    "    ai_name=\"Xiaoming\",\n",
    "    ai_role=\"Assistant\",\n",
    "    tools=tools,\n",
    "    llm=ChatOpenAI(temperature=0),\n",
    "    memory=vectordb.as_retriever()\n",
    ")\n",
    "# Set verbose to be true\n",
    "agent.chain.verbose = True\n"
   ],
   "metadata": {
    "id": "eJTPwIHWGyIZ",
    "ExecuteTime": {
     "end_time": "2024-04-23T08:19:28.667121Z",
     "start_time": "2024-04-23T08:19:26.761524Z"
    }
   },
   "execution_count": 57,
   "outputs": []
  },
  {
   "cell_type": "code",
   "source": [
    "from langchain.callbacks import get_openai_callback\n",
    "\n",
    "with get_openai_callback() as cb:\n",
    "  # agent.run([\"write a weather report for Beijing today\"])\n",
    "  agent.run([\"Write a report on today's weather in Wuhan, save it as wuhan_weather.txt\"])\n",
    "  # agent.run([\"Write a recent news article about new energy vehicles\"])\n",
    "  print(cb)"
   ],
   "metadata": {
    "colab": {
     "base_uri": "https://localhost:8080/"
    },
    "id": "zDD_7YXJG3dJ",
    "outputId": "f128318f-7be0-4362-da4a-3924bfae2b8e",
    "ExecuteTime": {
     "end_time": "2024-04-23T08:20:11.042565Z",
     "start_time": "2024-04-23T08:20:05.848279Z"
    }
   },
   "execution_count": 58,
   "outputs": [
    {
     "name": "stdout",
     "output_type": "stream",
     "text": [
      "\n",
      "\n",
      "\u001B[1m> Entering new LLMChain chain...\u001B[0m\n"
     ]
    },
    {
     "name": "stderr",
     "output_type": "stream",
     "text": [
      "Number of requested results 4 is greater than number of elements in index 2, updating n_results = 2\n"
     ]
    },
    {
     "name": "stdout",
     "output_type": "stream",
     "text": [
      "Prompt after formatting:\n",
      "\u001B[32;1m\u001B[1;3mSystem: You are Xiaoming, Assistant\n",
      "Your decisions must always be made independently without seeking user assistance.\n",
      "Play to your strengths as an LLM and pursue simple strategies with no legal complications.\n",
      "If you have completed all your tasks, make sure to use the \"finish\" command.\n",
      "\n",
      "GOALS:\n",
      "\n",
      "1. Write a report on today's weather in Wuhan, save it as wuhan_weather.txt\n",
      "\n",
      "\n",
      "Constraints:\n",
      "1. ~4000 word limit for short term memory. Your short term memory is short, so immediately save important information to files.\n",
      "2. If you are unsure how you previously did something or want to recall past events, thinking about similar events will help you remember.\n",
      "3. No user assistance\n",
      "4. Exclusively use the commands listed in double quotes e.g. \"command name\"\n",
      "\n",
      "Commands:\n",
      "1. search: useful for when you need to answer questions about current events. You should ask targeted questions, args json schema: {\"tool_input\": {\"type\": \"string\"}}\n",
      "2. write_file: Write file to disk, args json schema: {\"file_path\": {\"title\": \"File Path\", \"description\": \"name of file\", \"type\": \"string\"}, \"text\": {\"title\": \"Text\", \"description\": \"text to write to file\", \"type\": \"string\"}, \"append\": {\"title\": \"Append\", \"description\": \"Whether to append to an existing file.\", \"default\": false, \"type\": \"boolean\"}}\n",
      "3. read_file: Read file from disk, args json schema: {\"file_path\": {\"title\": \"File Path\", \"description\": \"name of file\", \"type\": \"string\"}}\n",
      "4. finish: use this to signal that you have finished all your objectives, args: \"response\": \"final response to let people know you have finished your objectives\"\n",
      "\n",
      "Resources:\n",
      "1. Internet access for searches and information gathering.\n",
      "2. Long Term memory management.\n",
      "3. GPT-3.5 powered Agents for delegation of simple tasks.\n",
      "4. File output.\n",
      "\n",
      "Performance Evaluation:\n",
      "1. Continuously review and analyze your actions to ensure you are performing to the best of your abilities.\n",
      "2. Constructively self-criticize your big-picture behavior constantly.\n",
      "3. Reflect on past decisions and strategies to refine your approach.\n",
      "4. Every command has a cost, so be smart and efficient. Aim to complete tasks in the least number of steps.\n",
      "\n",
      "You should only respond in JSON format as described below \n",
      "Response Format: \n",
      "{\n",
      "    \"thoughts\": {\n",
      "        \"text\": \"thought\",\n",
      "        \"reasoning\": \"reasoning\",\n",
      "        \"plan\": \"- short bulleted\\n- list that conveys\\n- long-term plan\",\n",
      "        \"criticism\": \"constructive self-criticism\",\n",
      "        \"speak\": \"thoughts summary to say to user\"\n",
      "    },\n",
      "    \"command\": {\n",
      "        \"name\": \"command name\",\n",
      "        \"args\": {\n",
      "            \"arg name\": \"value\"\n",
      "        }\n",
      "    }\n",
      "} \n",
      "Ensure the response can be parsed by Python json.loads\n",
      "System: The current time and date is Tue Apr 23 16:20:06 2024\n",
      "System: This reminds you of these events from your past:\n",
      "['Assistant Reply: {\\n    \"thoughts\": {\\n        \"text\": \"I need to start by searching for the weather in Wuhan today to gather the necessary information for my report.\",\\n        \"reasoning\": \"Searching will provide me with the most up-to-date weather information, allowing me to proceed with writing the report.\",\\n        \"plan\": [\\n            \"Search for the weather in Wuhan today.\"\\n        ],\\n        \"criticism\": \"None\",\\n        \"speak\": \"I will start by searching for the weather in Wuhan today.\"\\n    },\\n    \"command\": {\\n        \"name\": \"search\",\\n        \"args\": {\\n            \"tool_input\": \"weather in Wuhan today\"\\n        }\\n    }\\n} \\nResult: Command search returned: {\\'type\\': \\'weather_result\\', \\'temperature\\': \\'80\\', \\'unit\\': \\'Fahrenheit\\', \\'precipitation\\': \\'0%\\', \\'humidity\\': \\'50%\\', \\'wind\\': \\'8 mph\\', \\'location\\': \\'Wuhan, Hubei, China\\', \\'date\\': \\'Tuesday\\', \\'weather\\': \\'Mostly cloudy\\'} ', 'Assistant Reply: {\\n    \"thoughts\": {\\n        \"text\": \"I have obtained the necessary weather information for Wuhan today. Now, I should proceed to write a report on today\\'s weather in Wuhan and save it for reference.\",\\n        \"reasoning\": \"By writing a report, I can summarize the weather details and have a record of today\\'s weather in Wuhan.\",\\n        \"plan\": [\\n            \"Write a report on today\\'s weather in Wuhan and save it as wuhan_weather.txt.\"\\n        ],\\n        \"criticism\": \"None\",\\n        \"speak\": \"I will now write a report on today\\'s weather in Wuhan and save it as wuhan_weather.txt.\"\\n    },\\n    \"command\": {\\n        \"name\": \"write_file\",\\n        \"args\": {\\n            \"file_path\": \"wuhan_weather.txt\",\\n            \"text\": \"Date: Tuesday\\\\nLocation: Wuhan, Hubei, China\\\\nWeather: Mostly cloudy\\\\nTemperature: 80°F\\\\nPrecipitation: 0%\\\\nHumidity: 50%\\\\nWind: 8 mph\",\\n            \"append\": false\\n        }\\n    }\\n} \\nResult: Command write_file returned: File written successfully to wuhan_weather.txt. ']\n",
      "\n",
      "\n",
      "Human: Determine which next command to use, and respond using the format specified above:\u001B[0m\n",
      "\n",
      "\u001B[1m> Finished chain.\u001B[0m\n",
      "{\n",
      "    \"thoughts\": {\n",
      "        \"text\": \"I have completed the task of writing a report on today's weather in Wuhan. My next step should be to finish my current objectives.\",\n",
      "        \"reasoning\": \"Since I have successfully written the weather report and saved it, there are no more tasks to complete at the moment.\",\n",
      "        \"plan\": [\n",
      "            \"Use the 'finish' command to signal the completion of my objectives.\"\n",
      "        ],\n",
      "        \"criticism\": \"None\",\n",
      "        \"speak\": \"I have finished my tasks for now. I will use the 'finish' command to indicate the completion of my objectives.\"\n",
      "    },\n",
      "    \"command\": {\n",
      "        \"name\": \"finish\",\n",
      "        \"args\": {\n",
      "            \"response\": \"All tasks completed successfully.\"\n",
      "        }\n",
      "    }\n",
      "}\n",
      "Tokens Used: 1390\n",
      "\tPrompt Tokens: 1226\n",
      "\tCompletion Tokens: 164\n",
      "Successful Requests: 1\n",
      "Total Cost (USD): $0.002167\n"
     ]
    }
   ]
  },
  {
   "cell_type": "code",
   "source": [
    "!cat wuhan_weather.txt"
   ],
   "metadata": {
    "colab": {
     "base_uri": "https://localhost:8080/"
    },
    "id": "US1MZMpBIUqA",
    "outputId": "dda5de4c-2275-463a-cdde-e8fbfe8a7b72",
    "ExecuteTime": {
     "end_time": "2024-04-23T08:23:21.540218Z",
     "start_time": "2024-04-23T08:23:21.214350Z"
    }
   },
   "execution_count": 59,
   "outputs": [
    {
     "name": "stdout",
     "output_type": "stream",
     "text": [
      "Date: Tuesday\r\n",
      "Location: Wuhan, Hubei, China\r\n",
      "Weather: Mostly cloudy\r\n",
      "Temperature: 80°F\r\n",
      "Precipitation: 0%\r\n",
      "Humidity: 50%\r\n",
      "Wind: 8 mph"
     ]
    }
   ]
  },
  {
   "cell_type": "code",
   "execution_count": 38,
   "outputs": [
    {
     "name": "stdout",
     "output_type": "stream",
     "text": [
      "cat: Beijing_Weather_Report.txt: No such file or directory\r\n"
     ]
    }
   ],
   "source": [
    "!cat Beijing_Weather_Report.txt"
   ],
   "metadata": {
    "collapsed": false,
    "ExecuteTime": {
     "end_time": "2024-04-23T00:20:39.270948Z",
     "start_time": "2024-04-23T00:20:39.099591Z"
    }
   }
  },
  {
   "cell_type": "code",
   "execution_count": null,
   "outputs": [],
   "source": [],
   "metadata": {
    "collapsed": false
   }
  }
 ]
}
