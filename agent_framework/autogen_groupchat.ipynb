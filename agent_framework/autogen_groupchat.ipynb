{
 "cells": [
  {
   "attachments": {},
   "cell_type": "markdown",
   "metadata": {},
   "source": [
    "# Group Chat\n",
    "\n",
    "AutoGen offers conversable agents powered by LLM, tool or human, which can be used to perform tasks collectively via automated chat. This framework allows tool use and human participation through multi-agent conversation.\n",
    "Please find documentation about this feature [here](https://microsoft.github.io/autogen/docs/Use-Cases/agent_chat)."
   ]
  },
  {
   "cell_type": "markdown",
   "source": [
    "## Multiagent Collaboration 设计模式示例"
   ],
   "metadata": {
    "collapsed": false
   }
  },
  {
   "attachments": {},
   "cell_type": "markdown",
   "metadata": {},
   "source": [
    "<a href=\"https://colab.research.google.com/github/qxr777/llm-application-code/blob/master/agent_framework/autogen_groupchat.ipynb\" target=\"_parent\">Open In Colab</a>"
   ]
  },
  {
   "cell_type": "code",
   "execution_count": 15,
   "outputs": [],
   "source": [
    "!pip install pyautogen -qU"
   ],
   "metadata": {
    "collapsed": false,
    "ExecuteTime": {
     "end_time": "2024-04-20T03:19:20.393483Z",
     "start_time": "2024-04-20T03:19:12.209399Z"
    }
   }
  },
  {
   "cell_type": "code",
   "execution_count": null,
   "outputs": [],
   "source": [
    "# 三选一 加载OPENAI_API_KEY\n",
    "\n",
    "# 本地运行，包含.env文件\n",
    "# from dotenv import load_dotenv\n",
    "# load_dotenv()\n",
    "\n",
    "# 本地运行，不包含.env文件\n",
    "# import os\n",
    "# os.environ['OPENAI_API_KEY'] = 'sk-123456789'\n",
    "\n",
    "# google colab运行，需要配置secret key\n",
    "import os\n",
    "from google.colab import userdata\n",
    "os.environ[\"OPENAI_API_KEY\"] = userdata.get('OPENAI_API_KEY')"
   ],
   "metadata": {
    "collapsed": false
   }
  },
  {
   "cell_type": "code",
   "execution_count": 1,
   "outputs": [],
   "source": [
    "import os\n",
    "llm_config = {\n",
    "    \"config_list\": [{\"model\": \"gpt-3.5-turbo\", \"api_key\": os.environ[\"OPENAI_API_KEY\"], \"tags\": [\"gpt-3.5-turbo\", \"tool\"]}], \n",
    "    # \"config_list\": [{\"model\": \"gpt-4\", \"api_key\": os.environ[\"OPENAI_API_KEY\"], \"tags\": [\"gpt-4\", \"tool\"]}], \n",
    "    \"cache_seed\": 42, \"timeout\": 60\n",
    "}"
   ],
   "metadata": {
    "collapsed": false,
    "ExecuteTime": {
     "end_time": "2024-04-29T09:18:12.854670Z",
     "start_time": "2024-04-29T09:18:12.840496Z"
    }
   }
  },
  {
   "attachments": {},
   "cell_type": "markdown",
   "metadata": {},
   "source": [
    "````{=mdx}\n",
    ":::tip\n",
    "Learn more about configuring LLMs for agents [here](/docs/topics/llm_configuration).\n",
    ":::\n",
    "````\n",
    "\n",
    "## Construct Agents"
   ]
  },
  {
   "cell_type": "code",
   "execution_count": 2,
   "metadata": {
    "ExecuteTime": {
     "end_time": "2024-04-29T09:18:25.800531Z",
     "start_time": "2024-04-29T09:18:17.397544Z"
    }
   },
   "outputs": [],
   "source": [
    "import autogen\n",
    "user_proxy = autogen.UserProxyAgent(\n",
    "    name=\"User_proxy\",\n",
    "    system_message=\"A human admin.\",\n",
    "    code_execution_config={\n",
    "        \"last_n_messages\": 2,\n",
    "        \"work_dir\": \"groupchat\",\n",
    "        \"use_docker\": False,\n",
    "    },  # Please set use_docker=True if docker is available to run the generated code. Using docker is safer than running the generated code directly.\n",
    "    human_input_mode=\"TERMINATE\",\n",
    ")\n",
    "coder = autogen.AssistantAgent(\n",
    "    name=\"Coder\",\n",
    "    llm_config=llm_config,\n",
    ")\n",
    "pm = autogen.AssistantAgent(\n",
    "    name=\"Product_manager\",\n",
    "    system_message=\"Creative in software product ideas.\",\n",
    "    llm_config=llm_config,\n",
    ")\n",
    "groupchat = autogen.GroupChat(agents=[user_proxy, coder, pm], messages=[], max_round=12)\n",
    "manager = autogen.GroupChatManager(groupchat=groupchat, llm_config=llm_config)"
   ]
  },
  {
   "attachments": {},
   "cell_type": "markdown",
   "metadata": {},
   "source": [
    "## Start Chat"
   ]
  },
  {
   "cell_type": "code",
   "execution_count": 3,
   "metadata": {
    "ExecuteTime": {
     "end_time": "2024-04-29T09:18:40.241453Z",
     "start_time": "2024-04-29T09:18:30.981260Z"
    }
   },
   "outputs": [
    {
     "name": "stdout",
     "output_type": "stream",
     "text": [
      "\u001B[33mUser_proxy\u001B[0m (to chat_manager):\n",
      "\n",
      "Find a latest paper about gpt-4 on arxiv and find its potential applications in software.\n",
      "\n",
      "--------------------------------------------------------------------------------\n",
      "\u001B[33mProduct_manager\u001B[0m (to chat_manager):\n",
      "\n",
      "I am unable to browse the internet in real-time to find the latest paper about GPT-4 on arXiv. However, I can suggest potential software applications for GPT-4 based on its anticipated advancements.\n",
      "\n",
      "1. Advanced Chatbots: GPT-4 could be utilized to create highly sophisticated chatbots that can engage in more human-like conversations, provide better customer support, and personalize interactions based on context.\n",
      "\n",
      "2. Content Creation: GPT-4 could be leveraged for content generation tasks, such as writing articles, product descriptions, social media posts, and even creative storytelling.\n",
      "\n",
      "3. Code Generation: GPT-4 could potentially assist developers in writing code snippets, generating API documentation, or even suggesting solutions to coding problems based on natural language descriptions.\n",
      "\n",
      "4. Language Translation: GPT-4 may improve the accuracy and fluency of language translation services by providing more contextually accurate translations.\n",
      "\n",
      "5. Personalized Recommendations: By understanding user preferences and context better, GPT-4 could enhance personalized recommendation systems for content, products, and services.\n",
      "\n",
      "6. Sentiment Analysis: GPT-4 could provide more nuanced sentiment analysis results, helping businesses better understand customer feedback, social media sentiments, and market trends.\n",
      "\n",
      "7. Medical Diagnosis and Research: GPT-4's advanced natural language understanding capabilities could be applied to medical research and diagnosis, assisting healthcare professionals in analyzing patient data and medical literature.\n",
      "\n",
      "Please refer to arXiv or other academic sources for the latest publications and research findings on GPT-4 to explore more specific applications in software.\n",
      "\n",
      "--------------------------------------------------------------------------------\n",
      "\u001B[33mCoder\u001B[0m (to chat_manager):\n",
      "\n",
      "TERMINATE\n",
      "\n",
      "--------------------------------------------------------------------------------\n"
     ]
    },
    {
     "data": {
      "text/plain": "ChatResult(chat_id=None, chat_history=[{'content': 'Find a latest paper about gpt-4 on arxiv and find its potential applications in software.', 'role': 'assistant'}, {'content': \"I am unable to browse the internet in real-time to find the latest paper about GPT-4 on arXiv. However, I can suggest potential software applications for GPT-4 based on its anticipated advancements.\\n\\n1. Advanced Chatbots: GPT-4 could be utilized to create highly sophisticated chatbots that can engage in more human-like conversations, provide better customer support, and personalize interactions based on context.\\n\\n2. Content Creation: GPT-4 could be leveraged for content generation tasks, such as writing articles, product descriptions, social media posts, and even creative storytelling.\\n\\n3. Code Generation: GPT-4 could potentially assist developers in writing code snippets, generating API documentation, or even suggesting solutions to coding problems based on natural language descriptions.\\n\\n4. Language Translation: GPT-4 may improve the accuracy and fluency of language translation services by providing more contextually accurate translations.\\n\\n5. Personalized Recommendations: By understanding user preferences and context better, GPT-4 could enhance personalized recommendation systems for content, products, and services.\\n\\n6. Sentiment Analysis: GPT-4 could provide more nuanced sentiment analysis results, helping businesses better understand customer feedback, social media sentiments, and market trends.\\n\\n7. Medical Diagnosis and Research: GPT-4's advanced natural language understanding capabilities could be applied to medical research and diagnosis, assisting healthcare professionals in analyzing patient data and medical literature.\\n\\nPlease refer to arXiv or other academic sources for the latest publications and research findings on GPT-4 to explore more specific applications in software.\", 'name': 'Product_manager', 'role': 'user'}, {'content': 'TERMINATE', 'name': 'Coder', 'role': 'user'}], summary='', cost={'usage_including_cached_inference': {'total_cost': 0.00033850000000000004, 'gpt-3.5-turbo-0125': {'cost': 0.00033850000000000004, 'prompt_tokens': 668, 'completion_tokens': 3, 'total_tokens': 671}}, 'usage_excluding_cached_inference': {'total_cost': 0.00033850000000000004, 'gpt-3.5-turbo-0125': {'cost': 0.00033850000000000004, 'prompt_tokens': 668, 'completion_tokens': 3, 'total_tokens': 671}}}, human_input=[])"
     },
     "execution_count": 3,
     "metadata": {},
     "output_type": "execute_result"
    }
   ],
   "source": [
    "user_proxy.initiate_chat(\n",
    "    manager, \n",
    "    message=\"Find a latest paper about gpt-4 on arxiv and find its potential applications in software.\"\n",
    "    # message=\"Write a research overview of the application of digital twins in the construction industry on arxiv.\"\n",
    ")\n",
    "# type exit to terminate the chat"
   ]
  },
  {
   "cell_type": "code",
   "execution_count": null,
   "outputs": [],
   "source": [],
   "metadata": {
    "collapsed": false
   }
  }
 ],
 "metadata": {
  "front_matter": {
   "tags": [
    "orchestration",
    "group chat"
   ],
   "description": "Explore the utilization of large language models in automated group chat scenarios, where agents perform tasks collectively, demonstrating how they can be configured, interact with each other, and retrieve specific information from external resources."
  },
  "kernelspec": {
   "display_name": "flaml",
   "language": "python",
   "name": "python3"
  },
  "language_info": {
   "codemirror_mode": {
    "name": "ipython",
    "version": 3
   },
   "file_extension": ".py",
   "mimetype": "text/x-python",
   "name": "python",
   "nbconvert_exporter": "python",
   "pygments_lexer": "ipython3",
   "version": "3.9.17"
  },
  "orig_nbformat": 4
 },
 "nbformat": 4,
 "nbformat_minor": 2
}
