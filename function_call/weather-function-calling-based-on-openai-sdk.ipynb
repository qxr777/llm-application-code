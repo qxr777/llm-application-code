{
 "cells": [
  {
   "metadata": {},
   "cell_type": "markdown",
   "source": "## 示例：调用天气API",
   "id": "8cc3a22623fca4eb"
  },
  {
   "metadata": {
    "ExecuteTime": {
     "end_time": "2025-04-20T02:27:42.301289Z",
     "start_time": "2025-04-20T02:27:42.289991Z"
    }
   },
   "cell_type": "code",
   "source": [
    "from dotenv import load_dotenv\n",
    "load_dotenv(override=True)\n",
    "\n",
    "# import os\n",
    "# os.environ['OPENAI_API_KEY'] = 'sk-123456789'\n",
    "\n",
    "# import os\n",
    "# from google.colab import userdata\n",
    "# os.environ[\"OPENAI_API_KEY\"] = userdata.get('OPENAI_API_KEY')"
   ],
   "id": "f01b8d36dc87d114",
   "outputs": [
    {
     "data": {
      "text/plain": [
       "True"
      ]
     },
     "execution_count": 1,
     "metadata": {},
     "output_type": "execute_result"
    }
   ],
   "execution_count": 1
  },
  {
   "metadata": {
    "ExecuteTime": {
     "end_time": "2025-04-20T02:27:44.416184Z",
     "start_time": "2025-04-20T02:27:43.685962Z"
    }
   },
   "cell_type": "code",
   "source": [
    "from openai import OpenAI\n",
    "\n",
    "GPT_MODEL = \"gpt-3.5-turbo-0613\"\n",
    "client = OpenAI()"
   ],
   "id": "61a2c98601573bde",
   "outputs": [],
   "execution_count": 2
  },
  {
   "metadata": {
    "ExecuteTime": {
     "end_time": "2025-04-20T02:27:45.457507Z",
     "start_time": "2025-04-20T02:27:45.453644Z"
    }
   },
   "cell_type": "code",
   "source": [
    "tools = [\n",
    "    {\n",
    "        \"type\": \"function\",\n",
    "        \"function\": {\n",
    "            \"name\": \"get_weather\",\n",
    "            \"description\": \"查询即时天气函数，根据输入的城市名称，查询对应城市的实时天气，一次只能输入一个城市名称\",\n",
    "            \"parameters\": {\n",
    "                \"type\": \"object\",\n",
    "                \"properties\": {\n",
    "                    \"loc\": {\n",
    "                        \"description\": \"城市名称，注意，中国的城市需要用对应城市的英文名称代替，例如如果需要查询北京市天气，则loc参数需要输入'Beijing'\",\n",
    "                        \"type\": \"string\"\n",
    "                    }\n",
    "                },\n",
    "                \"required\": [\"loc\"]\n",
    "            }\n",
    "        }\n",
    "    }\n",
    "]"
   ],
   "id": "c0f3ba5792559e3c",
   "outputs": [],
   "execution_count": 3
  },
  {
   "metadata": {
    "ExecuteTime": {
     "end_time": "2025-04-20T02:27:47.458638Z",
     "start_time": "2025-04-20T02:27:47.385966Z"
    }
   },
   "cell_type": "code",
   "source": [
    "import requests\n",
    "import json\n",
    "import os\n",
    "\n",
    "# 这里需要替换为你自己的OpenWeatherMap API密钥\n",
    "open_weather_key = os.getenv(\"OPEN_WEATHER_API_KEY\")\n",
    "\n",
    "def get_weather(loc):\n",
    "    \"\"\"\n",
    "    查询即时天气函数\n",
    "    :param loc: 必要参数，字符串类型，用于表示查询天气的具体城市名称，\n",
    "                注意，中国的城市需要用对应城市的英文名称代替，例如如果需要查询北京市天气，则loc参数需要输入'Beijing'；\n",
    "    :return: OpenWeather API查询即时天气的结果，具体URL请求地址为: https://api.openweathermap.org/data/2.5/weather\n",
    "             返回结果对象类型为解析之后的JSON格式对象，并用字符串形式进行表示，其中包含了全部重要的天气信息\n",
    "    \"\"\"\n",
    "    # Step 1.构建请求\n",
    "    url = \"https://api.openweathermap.org/data/2.5/weather\"\n",
    "    # Step 2.设置查询参数\n",
    "    params = {\n",
    "        \"q\": loc,\n",
    "        \"appid\": open_weather_key,  # 输入API key\n",
    "        \"units\": \"metric\",  # 使用摄氏度而不是华氏度\n",
    "        \"lang\": \"zh_cn\"  # 输出语言为简体中文\n",
    "    }\n",
    "    # Step 3.发送GET请求\n",
    "    response = requests.get(url, params=params)\n",
    "    # Step 4.解析响应\n",
    "    data = response.json()\n",
    "    return json.dumps(data)"
   ],
   "id": "72e10055b118efce",
   "outputs": [],
   "execution_count": 4
  },
  {
   "metadata": {
    "ExecuteTime": {
     "end_time": "2025-04-20T02:27:51.113626Z",
     "start_time": "2025-04-20T02:27:48.892684Z"
    }
   },
   "cell_type": "code",
   "source": [
    "response = client.chat.completions.create(\n",
    "    model=GPT_MODEL,\n",
    "    messages=[\n",
    "        {\"role\": \"user\", \"content\": \"你好！\"}\n",
    "    ],\n",
    "    tools=tools\n",
    ")\n",
    "\n",
    "print(response.choices[0].message.content)"
   ],
   "id": "60c0af313eac5517",
   "outputs": [
    {
     "name": "stdout",
     "output_type": "stream",
     "text": [
      "你好！有什么可以帮助你的吗？\n"
     ]
    }
   ],
   "execution_count": 5
  },
  {
   "metadata": {
    "ExecuteTime": {
     "end_time": "2025-04-20T02:37:28.938322Z",
     "start_time": "2025-04-20T02:37:26.059339Z"
    }
   },
   "cell_type": "code",
   "source": [
    "# 用户提问\n",
    "messages = [\n",
    "    {\"role\": \"user\", \"content\": \"请问北京今天天气如何？\"}\n",
    "]\n",
    "response = client.chat.completions.create(\n",
    "    model=GPT_MODEL,\n",
    "    messages=messages,\n",
    "    tools=tools\n",
    ")\n",
    "\n",
    "# 获取工具调用信息\n",
    "function_call_message = response.choices[0].message.tool_calls\n",
    "if function_call_message:\n",
    "    print(function_call_message)\n",
    "    function_call = function_call_message[0]\n",
    "    if function_call.function.name == \"get_weather\":\n",
    "        arguments = json.loads(function_call.function.arguments)\n",
    "        loc = arguments[\"loc\"]\n",
    "        weather_result = get_weather(loc)\n",
    "        print(weather_result)\n",
    "        # 追加function返回消息\n",
    "        messages.append({\n",
    "            \"role\": \"tool\",\n",
    "            \"content\": weather_result,\n",
    "            \"tool_call_id\": response.choices[0].message.tool_calls[0].id\n",
    "        })"
   ],
   "id": "97353c8b39354e30",
   "outputs": [
    {
     "name": "stdout",
     "output_type": "stream",
     "text": [
      "[ChatCompletionMessageToolCall(id='call_nCUhGtiRPiK2ETobrY1gv9z4', function=Function(arguments='{\"loc\":\"Beijing\"}', name='get_weather'), type='function')]\n",
      "{\"coord\": {\"lon\": 116.3972, \"lat\": 39.9075}, \"weather\": [{\"id\": 803, \"main\": \"Clouds\", \"description\": \"\\u591a\\u4e91\", \"icon\": \"04d\"}], \"base\": \"stations\", \"main\": {\"temp\": 17.94, \"feels_like\": 16.7, \"temp_min\": 17.94, \"temp_max\": 17.94, \"pressure\": 1013, \"humidity\": 35, \"sea_level\": 1013, \"grnd_level\": 1008}, \"visibility\": 10000, \"wind\": {\"speed\": 3.42, \"deg\": 201, \"gust\": 5.69}, \"clouds\": {\"all\": 60}, \"dt\": 1745116514, \"sys\": {\"type\": 1, \"id\": 9609, \"country\": \"CN\", \"sunrise\": 1745098176, \"sunset\": 1745146604}, \"timezone\": 28800, \"id\": 1816670, \"name\": \"Beijing\", \"cod\": 200}\n"
     ]
    }
   ],
   "execution_count": 8
  },
  {
   "metadata": {
    "ExecuteTime": {
     "end_time": "2025-04-20T02:37:59.360002Z",
     "start_time": "2025-04-20T02:37:54.392974Z"
    }
   },
   "cell_type": "code",
   "source": [
    "# 再次请求模型\n",
    "second_response = client.chat.completions.create(\n",
    "    model=GPT_MODEL,\n",
    "    messages=messages,\n",
    "    tools=tools\n",
    ")\n",
    "\n",
    "# 打印最终回复\n",
    "print(second_response.choices[0].message.content)"
   ],
   "id": "92f02bb4764271da",
   "outputs": [
    {
     "name": "stdout",
     "output_type": "stream",
     "text": [
      "根据提供的天气数据，北京今天天气状况为多云，温度为17.94摄氏度，体感温度为16.7摄氏度。湿度为35%，风速为3.42米/秒，风向为201度，阵风风速为5.69米/秒。能见度为10000米。云量为60%。\n",
      "\n",
      "\n",
      "总的来说，北京今天天气较为温和，多云，体感略微凉爽。\n",
      "\n"
     ]
    }
   ],
   "execution_count": 9
  },
  {
   "metadata": {},
   "cell_type": "code",
   "outputs": [],
   "execution_count": null,
   "source": "",
   "id": "36a0ffd84a9c7da2"
  }
 ],
 "metadata": {
  "kernelspec": {
   "display_name": "Python 3",
   "language": "python",
   "name": "python3"
  },
  "language_info": {
   "codemirror_mode": {
    "name": "ipython",
    "version": 2
   },
   "file_extension": ".py",
   "mimetype": "text/x-python",
   "name": "python",
   "nbconvert_exporter": "python",
   "pygments_lexer": "ipython2",
   "version": "2.7.6"
  }
 },
 "nbformat": 4,
 "nbformat_minor": 5
}
