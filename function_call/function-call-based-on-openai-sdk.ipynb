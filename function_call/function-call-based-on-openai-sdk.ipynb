{
 "cells": [
  {
   "cell_type": "code",
   "id": "initial_id",
   "metadata": {
    "collapsed": true,
    "ExecuteTime": {
     "end_time": "2024-07-20T02:06:40.926214Z",
     "start_time": "2024-07-20T02:06:39.969952Z"
    }
   },
   "source": [
    "!pip install langchain openai --upgrade --quiet"
   ],
   "outputs": [],
   "execution_count": 1
  },
  {
   "cell_type": "markdown",
   "source": [
    "<a href=\"https://colab.research.google.com/github/qxr777/llm-application-code/blob/master/function_call/function-call-based-on-openai-sdk.ipynb\" target=\"_parent\">Open In Colab</a>"
   ],
   "metadata": {
    "collapsed": false
   },
   "id": "36e546b2b48d9275"
  },
  {
   "cell_type": "markdown",
   "source": [
    "### 基于OpenAI的Python SDK使用函数调用"
   ],
   "metadata": {
    "collapsed": false
   },
   "id": "6e5a5ca448caf612"
  },
  {
   "cell_type": "code",
   "source": [
    "from dotenv import load_dotenv\n",
    "load_dotenv()\n",
    "\n",
    "# import os\n",
    "# os.environ['OPENAI_API_KEY'] = 'sk-123456789'\n",
    "\n",
    "# import os\n",
    "# from google.colab import userdata\n",
    "# os.environ[\"OPENAI_API_KEY\"] = userdata.get('OPENAI_API_KEY')"
   ],
   "metadata": {
    "collapsed": false,
    "ExecuteTime": {
     "end_time": "2024-07-20T02:06:53.534444Z",
     "start_time": "2024-07-20T02:06:53.522334Z"
    }
   },
   "id": "9347fc9213a0b887",
   "outputs": [
    {
     "data": {
      "text/plain": [
       "True"
      ]
     },
     "execution_count": 2,
     "metadata": {},
     "output_type": "execute_result"
    }
   ],
   "execution_count": 2
  },
  {
   "cell_type": "code",
   "source": [
    "model = 'gpt-3.5-turbo-0613'"
   ],
   "metadata": {
    "collapsed": false,
    "ExecuteTime": {
     "end_time": "2024-07-20T02:06:54.989922Z",
     "start_time": "2024-07-20T02:06:54.987125Z"
    }
   },
   "id": "173510d63f7d6799",
   "outputs": [],
   "execution_count": 3
  },
  {
   "cell_type": "code",
   "source": [
    "function_descriptions = [\n",
    "  {\n",
    "      \"name\": \"get_student_score\",\n",
    "      \"description\": \"Get the student score by given his or her name\",\n",
    "      \"parameters\": {\n",
    "          \"type\": \"object\",\n",
    "          \"properties\": {\n",
    "              \"name\": {\n",
    "                  \"type\": \"string\",\n",
    "                  \"description\": \"The student's name\",\n",
    "              }\n",
    "          },\n",
    "          \"required\": [\"name\"],\n",
    "      },\n",
    "    }\n",
    "]\n",
    "\n",
    "import json\n",
    "\n",
    "SCORES = { 'Alex': 90, 'Lucy': 60 }\n",
    "def get_student_score(name):\n",
    "\n",
    "    \"\"\"Get the student score by given his or her name\"\"\"\n",
    "\n",
    "    score = {\n",
    "        \"name\": name,\n",
    "        \"score\": SCORES[name]\n",
    "    }\n",
    "    return json.dumps(score)"
   ],
   "metadata": {
    "collapsed": false,
    "ExecuteTime": {
     "end_time": "2024-07-20T02:06:55.903200Z",
     "start_time": "2024-07-20T02:06:55.900267Z"
    }
   },
   "id": "636da9546a2e9b3",
   "outputs": [],
   "execution_count": 4
  },
  {
   "cell_type": "code",
   "source": [
    "user_query = \"What's the performance of Lucy in the school this year?\""
   ],
   "metadata": {
    "collapsed": false,
    "ExecuteTime": {
     "end_time": "2024-07-20T02:06:57.431281Z",
     "start_time": "2024-07-20T02:06:57.428663Z"
    }
   },
   "id": "89257fccfb0725b3",
   "outputs": [],
   "execution_count": 5
  },
  {
   "cell_type": "code",
   "source": [
    "from openai import OpenAI\n",
    "\n",
    "client = OpenAI()\n",
    "# client = OpenAI(base_url=\"http://localhost:1234/v1\", api_key=\"not-needed\")\n",
    "response = client.chat.completions.create(model=model,\n",
    "                                          messages=[{\"role\": \"user\", \"content\": user_query}],\n",
    "                                          functions=function_descriptions,\n",
    "                                          function_call=\"auto\")\n",
    "ai_response_message = response.choices[0].message\n",
    "print(ai_response_message)"
   ],
   "metadata": {
    "collapsed": false,
    "ExecuteTime": {
     "end_time": "2024-07-20T02:16:45.246188Z",
     "start_time": "2024-07-20T02:16:44.029936Z"
    }
   },
   "id": "e9d3c1caac8594c1",
   "outputs": [
    {
     "name": "stdout",
     "output_type": "stream",
     "text": [
      "ChatCompletionMessage(content=None, role='assistant', function_call=FunctionCall(arguments='{\"name\":\"Lucy\"}', name='get_student_score'), tool_calls=None)\n"
     ]
    }
   ],
   "execution_count": 15
  },
  {
   "metadata": {
    "ExecuteTime": {
     "end_time": "2024-07-20T02:11:53.233441Z",
     "start_time": "2024-07-20T02:11:35.061679Z"
    }
   },
   "cell_type": "code",
   "source": [
    "# Example: reuse your existing OpenAI setup\n",
    "from openai import OpenAI\n",
    "\n",
    "# Point to the local server\n",
    "client = OpenAI(base_url=\"http://localhost:1234/v1\", api_key=\"not-needed\")\n",
    "\n",
    "completion = client.chat.completions.create(\n",
    "  model=\"local-model\", # this field is currently unused\n",
    "  messages=[\n",
    "    {\"role\": \"system\", \"content\": \"以中文书面语的方式回答问题\"},\n",
    "    {\"role\": \"user\", \"content\": \"如何才能在5分钟内完成一个1000万USD的融资？\"}\n",
    "  ],\n",
    "  temperature=0.7,\n",
    ")\n",
    "\n",
    "print(completion.choices[0].message.content)"
   ],
   "id": "2a9eb77cbf3a0847",
   "outputs": [
    {
     "name": "stdout",
     "output_type": "stream",
     "text": [
      "😊\n",
      "\n",
      "Oh, you want to know how to complete a $10 million financing deal within 5 minutes? That's quite an ambitious goal! 🎉\n",
      "\n",
      "Firstly, I'd like to clarify that it's extremely rare for any business deal to be completed within mere seconds. Financing deals often require complex negotiations and due diligence processes.\n",
      "\n",
      "That being said, here are some tips to speed up your financing process:\n",
      "\n",
      "1. **Prepare thoroughly**: Ensure all necessary documents and information are ready in advance.\n",
      "2. **Streamline communication**: Keep channels of communication open and clear for all parties involved.\n",
      "3. **Simplify the terms**: Negotiate simplified terms that reduce complexity and uncertainty.\n",
      "\n",
      "However, I must reiterate that completing a $10 million financing deal within 5 minutes is extremely challenging, if not impossible. It's crucial to prioritize transparency, due diligence, and responsible decision-making in your financing processes.\n",
      "\n",
      "Now, are you prepared for the consequences of such an ambitious goal? 🤔\n"
     ]
    }
   ],
   "execution_count": 13
  },
  {
   "cell_type": "code",
   "source": [
    "import inspect\n",
    "\n",
    "def get_function_parameter_names(function):\n",
    "    \"\"\"\n",
    "    获取指定函数的参数名列表。\n",
    "    \n",
    "    参数:\n",
    "    function - 需要获取参数名的函数对象。\n",
    "    \n",
    "    返回值:\n",
    "    如果函数参数有效，则返回一个包含所有参数名的列表；否则返回None。\n",
    "    \"\"\"\n",
    "    if function is not None and inspect.isfunction(function):\n",
    "        # 如果传入的对象是函数，获取其参数名\n",
    "        parameter_names = inspect.signature(function).parameters.keys()\n",
    "        return list(parameter_names)\n",
    "    else:\n",
    "        # 如果传入的对象不是函数，返回None\n",
    "        return None"
   ],
   "metadata": {
    "collapsed": false,
    "ExecuteTime": {
     "end_time": "2024-07-20T02:07:03.596960Z",
     "start_time": "2024-07-20T02:07:03.594028Z"
    }
   },
   "id": "1d5b0300d9857192",
   "outputs": [],
   "execution_count": 7
  },
  {
   "cell_type": "code",
   "source": [
    "# 获取函数名称及其参数\n",
    "# 从ai_response_message中提取函数调用的信息，包括函数名和参数\n",
    "function_name = ai_response_message.function_call.name\n",
    "arguments = json.loads(ai_response_message.function_call.arguments)\n",
    "\n",
    "# 定位函数并调用\n",
    "# 通过函数名在全局变量中查找函数，然后获取函数的参数名，并根据参数名提取参数值，最后调用函数\n",
    "the_function = globals().get(function_name)  # 尝试从全局变量中获取函数对象\n",
    "parameter_names = get_function_parameter_names(the_function)  # 获取函数的参数名列表\n",
    "parameter_values = []\n",
    "for parameter_name in parameter_names:\n",
    "  parameter_values.append(arguments[parameter_name])  # 根据参数名提取参数值\n",
    "\n",
    "returned_value = the_function(*parameter_values)  # 调用函数，并传入参数值列表\n",
    "returned_value  # 返回函数执行结果\n"
   ],
   "metadata": {
    "collapsed": false,
    "ExecuteTime": {
     "end_time": "2024-07-20T02:07:08.214855Z",
     "start_time": "2024-07-20T02:07:08.211174Z"
    }
   },
   "id": "1339da823b59a7e3",
   "outputs": [
    {
     "data": {
      "text/plain": [
       "'{\"name\": \"Lucy\", \"score\": 60}'"
      ]
     },
     "execution_count": 8,
     "metadata": {},
     "output_type": "execute_result"
    }
   ],
   "execution_count": 8
  },
  {
   "cell_type": "code",
   "source": [
    "second_response = client.chat.completions.create(model=model,\n",
    "                                                 messages=[\n",
    "                                                     {\"role\": \"user\", \"content\": user_query},\n",
    "                                                     ai_response_message,\n",
    "                                                     {\n",
    "                                                         \"role\": \"function\",\n",
    "                                                         \"name\": \"get_student_score\",\n",
    "                                                         \"content\": returned_value,\n",
    "                                                     },\n",
    "                                                 ])\n",
    "print (second_response.choices[0].message.content)"
   ],
   "metadata": {
    "collapsed": false,
    "ExecuteTime": {
     "end_time": "2024-07-20T02:07:13.663617Z",
     "start_time": "2024-07-20T02:07:11.652790Z"
    }
   },
   "id": "a2ae833965b82ed8",
   "outputs": [
    {
     "name": "stdout",
     "output_type": "stream",
     "text": [
      "Lucy's performance in school this year has been a score of 60.\n"
     ]
    }
   ],
   "execution_count": 9
  },
  {
   "cell_type": "code",
   "execution_count": null,
   "outputs": [],
   "source": [],
   "metadata": {
    "collapsed": false
   },
   "id": "e59f607c4d2956d6"
  }
 ],
 "metadata": {
  "kernelspec": {
   "display_name": "Python 3",
   "language": "python",
   "name": "python3"
  },
  "language_info": {
   "codemirror_mode": {
    "name": "ipython",
    "version": 2
   },
   "file_extension": ".py",
   "mimetype": "text/x-python",
   "name": "python",
   "nbconvert_exporter": "python",
   "pygments_lexer": "ipython2",
   "version": "2.7.6"
  }
 },
 "nbformat": 4,
 "nbformat_minor": 5
}
