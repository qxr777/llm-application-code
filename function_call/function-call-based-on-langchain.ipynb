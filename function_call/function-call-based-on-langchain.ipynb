{
 "cells": [
  {
   "cell_type": "markdown",
   "source": [
    "### 基于LangChain框架使用函数调用"
   ],
   "metadata": {
    "collapsed": false
   },
   "id": "de15b15c693d87db"
  },
  {
   "cell_type": "code",
   "source": [
    "!pip install langchain openai langchain-openai --upgrade --quiet"
   ],
   "metadata": {
    "collapsed": false,
    "ExecuteTime": {
     "end_time": "2024-07-20T01:58:39.085779Z",
     "start_time": "2024-07-20T01:58:37.063809Z"
    }
   },
   "id": "5c5c058f6e2dc05a",
   "outputs": [],
   "execution_count": 1
  },
  {
   "cell_type": "markdown",
   "source": [
    "<a href=\"https://colab.research.google.com/github/qxr777/llm-application-code/blob/master/function_call/function-call-based-on-langchain.ipynb\" target=\"_parent\">Open In Colab</a>"
   ],
   "metadata": {
    "collapsed": false
   },
   "id": "6fba03f840f02ecb"
  },
  {
   "cell_type": "code",
   "source": [
    "# 三选一 加载OPENAI_API_KEY\n",
    "\n",
    "# 本地运行，包含.env文件\n",
    "from dotenv import load_dotenv\n",
    "load_dotenv()\n",
    "\n",
    "# 本地运行，不包含.env文件\n",
    "# import os\n",
    "# os.environ['OPENAI_API_KEY'] = 'sk-123456789'\n",
    "\n",
    "# google colab运行，需要配置secret key\n",
    "# import os\n",
    "# from google.colab import userdata\n",
    "# os.environ[\"OPENAI_API_KEY\"] = userdata.get('OPENAI_API_KEY')"
   ],
   "metadata": {
    "collapsed": false,
    "ExecuteTime": {
     "end_time": "2024-07-20T01:58:41.128850Z",
     "start_time": "2024-07-20T01:58:41.115987Z"
    }
   },
   "id": "e698bd119fa6fbad",
   "outputs": [
    {
     "data": {
      "text/plain": [
       "True"
      ]
     },
     "execution_count": 2,
     "metadata": {},
     "output_type": "execute_result"
    }
   ],
   "execution_count": 2
  },
  {
   "cell_type": "code",
   "source": [
    "from langchain_openai import ChatOpenAI\n",
    "from langchain.schema import HumanMessage, AIMessage, ChatMessage\n",
    "from langchain.tools import YouTubeSearchTool\n",
    "from langchain_core.utils.function_calling import convert_to_openai_function"
   ],
   "metadata": {
    "collapsed": false,
    "ExecuteTime": {
     "end_time": "2024-07-20T01:58:43.929294Z",
     "start_time": "2024-07-20T01:58:43.428492Z"
    }
   },
   "id": "ade5715506481fcd",
   "outputs": [],
   "execution_count": 3
  },
  {
   "cell_type": "code",
   "source": [
    "model = 'gpt-3.5-turbo-0613'\n",
    "llm = ChatOpenAI(model=model)"
   ],
   "metadata": {
    "collapsed": false,
    "ExecuteTime": {
     "end_time": "2024-07-20T01:58:45.780176Z",
     "start_time": "2024-07-20T01:58:45.689009Z"
    }
   },
   "id": "b9662d1c4ce970e3",
   "outputs": [],
   "execution_count": 4
  },
  {
   "cell_type": "markdown",
   "source": [
    "#### LangChain工具(Tool)的OpenAI函数调用能力"
   ],
   "metadata": {
    "collapsed": false
   },
   "id": "b6deac93ecea4ede"
  },
  {
   "cell_type": "markdown",
   "source": [
    "### 示例一：调用LangChain提供的工具"
   ],
   "metadata": {
    "collapsed": false
   },
   "id": "74d7dd1f6f486e4b"
  },
  {
   "cell_type": "code",
   "source": [
    "tools = [YouTubeSearchTool()]\n",
    "functions = [convert_to_openai_function(t) for t in tools]\n",
    "functions"
   ],
   "metadata": {
    "collapsed": false,
    "ExecuteTime": {
     "end_time": "2024-07-20T01:58:51.165612Z",
     "start_time": "2024-07-20T01:58:51.109166Z"
    }
   },
   "id": "bd6c1841299cc235",
   "outputs": [
    {
     "data": {
      "text/plain": [
       "[{'name': 'youtube_search',\n",
       "  'description': 'search for youtube videos associated with a person. the input to this tool should be a comma separated list, the first part contains a person name and the second a number that is the maximum number of video results to return aka num_results. the second part is optional',\n",
       "  'parameters': {'type': 'object',\n",
       "   'properties': {'query': {'type': 'string'}},\n",
       "   'required': ['query']}}]"
      ]
     },
     "execution_count": 5,
     "metadata": {},
     "output_type": "execute_result"
    }
   ],
   "execution_count": 5
  },
  {
   "cell_type": "code",
   "source": [
    "message = llm.invoke([HumanMessage(content='search videos in the topic of OpenAI on Youtube')], functions=functions)\n",
    "message"
   ],
   "metadata": {
    "collapsed": false,
    "ExecuteTime": {
     "end_time": "2024-07-20T01:59:01.658692Z",
     "start_time": "2024-07-20T01:59:00.502225Z"
    }
   },
   "id": "53bee6bd758eb4e2",
   "outputs": [
    {
     "data": {
      "text/plain": [
       "AIMessage(content='', additional_kwargs={'function_call': {'arguments': '{\"query\":\"OpenAI\"}', 'name': 'youtube_search'}}, response_metadata={'token_usage': {'completion_tokens': 15, 'prompt_tokens': 101, 'total_tokens': 116}, 'model_name': 'gpt-3.5-turbo-0125', 'system_fingerprint': None, 'finish_reason': 'function_call', 'logprobs': None}, id='run-66d2f5ed-6ae0-4c93-b2cf-6096014313b2-0', usage_metadata={'input_tokens': 101, 'output_tokens': 15, 'total_tokens': 116})"
      ]
     },
     "execution_count": 6,
     "metadata": {},
     "output_type": "execute_result"
    }
   ],
   "execution_count": 6
  },
  {
   "cell_type": "markdown",
   "source": [
    "### 示例二：调用自定义的工具"
   ],
   "metadata": {
    "collapsed": false
   },
   "id": "ea528762e37a01e1"
  },
  {
   "cell_type": "code",
   "source": [
    "function_descriptions = [\n",
    "    {\n",
    "        \"name\": \"remove_word_from_string\",\n",
    "        \"description\": \"Remove a word from a string by given its index\",\n",
    "        \"parameters\": {\n",
    "            \"type\": \"object\",\n",
    "            \"properties\": {\n",
    "                \"string\": {\n",
    "                    \"type\": \"string\",\n",
    "                    \"description\": \"The original string to be processed\",\n",
    "                },\n",
    "                \"index\": {\n",
    "                    \"type\": \"integer\",\n",
    "                    \"description\": \"The index of the word to be removed\"\n",
    "                },\n",
    "            },\n",
    "            \"required\": [\n",
    "                \"string\",\n",
    "                \"index\"\n",
    "            ],\n",
    "        },\n",
    "    },\n",
    "    {\n",
    "        \"name\": \"send_message_by_email\",\n",
    "        \"description\": \"Send an email with the text message to a recipient\",\n",
    "        \"parameters\": {\n",
    "            \"type\": \"object\",\n",
    "            \"properties\": {\n",
    "                \"recipient\": {\n",
    "                    \"type\": \"string\",\n",
    "                    \"description\": \"The email address of the recipient\",\n",
    "                },\n",
    "                \"message\": {\n",
    "                    \"type\": \"string\",\n",
    "                    \"description\": \"The message of the email content\",\n",
    "                }\n",
    "            },\n",
    "            \"required\": [\n",
    "                \"recipient\",\n",
    "                \"message\"\n",
    "            ],\n",
    "        },\n",
    "    }\n",
    "]"
   ],
   "metadata": {
    "collapsed": false,
    "ExecuteTime": {
     "end_time": "2024-07-20T01:59:08.693567Z",
     "start_time": "2024-07-20T01:59:08.689888Z"
    }
   },
   "id": "d9f68a8e76dcd56f",
   "outputs": [],
   "execution_count": 7
  },
  {
   "cell_type": "code",
   "source": [
    "question = \"\"\"\n",
    "I have a string as follows:\n",
    "\n",
    "black yellow red blue green\n",
    "\n",
    "Please do the following 2 operations on it:\n",
    "1. Remove the third word in the string\n",
    "2. Send the updated string to Alex via email alex@xyz.com\n",
    "\"\"\""
   ],
   "metadata": {
    "collapsed": false,
    "ExecuteTime": {
     "end_time": "2024-07-20T01:59:10.240347Z",
     "start_time": "2024-07-20T01:59:10.237947Z"
    }
   },
   "id": "a22315440ab812da",
   "outputs": [],
   "execution_count": 8
  },
  {
   "cell_type": "code",
   "source": [
    "import inspect\n",
    "\n",
    "def get_function_parameter_names(function):\n",
    "    \"\"\"\n",
    "    获取指定函数的参数名列表。\n",
    "    \n",
    "    参数:\n",
    "    function - 需要获取参数名的函数对象。\n",
    "    \n",
    "    返回值:\n",
    "    如果函数参数有效，则返回一个包含所有参数名的列表；否则返回None。\n",
    "    \"\"\"\n",
    "    if function is not None and inspect.isfunction(function):\n",
    "        # 如果传入的对象是函数，获取其参数名\n",
    "        parameter_names = inspect.signature(function).parameters.keys()\n",
    "        return list(parameter_names)\n",
    "    else:\n",
    "        # 如果传入的对象不是函数，返回None\n",
    "        return None\n"
   ],
   "metadata": {
    "collapsed": false,
    "ExecuteTime": {
     "end_time": "2024-07-20T01:59:11.861377Z",
     "start_time": "2024-07-20T01:59:11.859150Z"
    }
   },
   "id": "9ecb63fb0778b269",
   "outputs": [],
   "execution_count": 9
  },
  {
   "cell_type": "code",
   "source": [
    "def remove_word_from_string(string, index):\n",
    "    words = string.split()\n",
    "\n",
    "    if 0 <= index < len(words):\n",
    "        del words[index]\n",
    "\n",
    "        return ' '.join(words)\n",
    "    else:\n",
    "        return string\n",
    "\n",
    "def send_message_by_email(recipient, message):\n",
    "    print(f'Sending {message} to {recipient}')\n",
    "    return f'Just sent email to {recipient}'"
   ],
   "metadata": {
    "collapsed": false,
    "ExecuteTime": {
     "end_time": "2024-07-20T01:59:13.822424Z",
     "start_time": "2024-07-20T01:59:13.819142Z"
    }
   },
   "id": "b193bfb5330fa2c8",
   "outputs": [],
   "execution_count": 10
  },
  {
   "cell_type": "code",
   "source": [
    "first_response = llm.invoke([HumanMessage(content=question)], functions=function_descriptions)\n",
    "first_response"
   ],
   "metadata": {
    "collapsed": false,
    "ExecuteTime": {
     "end_time": "2024-07-20T01:59:16.497306Z",
     "start_time": "2024-07-20T01:59:15.256859Z"
    }
   },
   "id": "7d8f1593a9d1124a",
   "outputs": [
    {
     "data": {
      "text/plain": [
       "AIMessage(content='', additional_kwargs={'function_call': {'arguments': '{\"index\":2,\"string\":\"black yellow red blue green\"}', 'name': 'remove_word_from_string'}}, response_metadata={'token_usage': {'completion_tokens': 24, 'prompt_tokens': 172, 'total_tokens': 196}, 'model_name': 'gpt-3.5-turbo-0125', 'system_fingerprint': None, 'finish_reason': 'function_call', 'logprobs': None}, id='run-e2e5f17a-004d-4cd8-9dc3-39ddf5d5812b-0', usage_metadata={'input_tokens': 172, 'output_tokens': 24, 'total_tokens': 196})"
      ]
     },
     "execution_count": 11,
     "metadata": {},
     "output_type": "execute_result"
    }
   ],
   "execution_count": 11
  },
  {
   "cell_type": "code",
   "source": [
    "# Get function name, and its arguments\n",
    "import json\n",
    "\n",
    "function_name = first_response.additional_kwargs[\"function_call\"][\"name\"]\n",
    "arguments = json.loads(first_response.additional_kwargs[\"function_call\"][\"arguments\"])\n",
    "\n",
    "# Locate the function and make the call\n",
    "the_function = globals().get(function_name)\n",
    "parameter_names = get_function_parameter_names(the_function)\n",
    "parameter_values = []\n",
    "for parameter_name in parameter_names:\n",
    "    parameter_values.append(arguments[parameter_name])\n",
    "\n",
    "returned_value = the_function(*parameter_values)\n",
    "returned_value"
   ],
   "metadata": {
    "collapsed": false,
    "ExecuteTime": {
     "end_time": "2024-07-20T01:59:19.794425Z",
     "start_time": "2024-07-20T01:59:19.789794Z"
    }
   },
   "id": "1b2510d1e37df5c8",
   "outputs": [
    {
     "data": {
      "text/plain": [
       "'black yellow blue green'"
      ]
     },
     "execution_count": 12,
     "metadata": {},
     "output_type": "execute_result"
    }
   ],
   "execution_count": 12
  },
  {
   "cell_type": "code",
   "source": [
    "second_response = llm.invoke(\n",
    "    [\n",
    "        HumanMessage(content=question),\n",
    "        AIMessage(content=str(first_response.additional_kwargs)),\n",
    "        ChatMessage(\n",
    "            role='function',\n",
    "            additional_kwargs = {'name': function_name},\n",
    "            content = returned_value\n",
    "        )\n",
    "    ],\n",
    "    functions=function_descriptions\n",
    ")\n",
    "second_response"
   ],
   "metadata": {
    "collapsed": false,
    "ExecuteTime": {
     "end_time": "2024-07-20T01:59:22.027299Z",
     "start_time": "2024-07-20T01:59:20.958455Z"
    }
   },
   "id": "38e57a0b05001e1c",
   "outputs": [
    {
     "data": {
      "text/plain": [
       "AIMessage(content='', additional_kwargs={'function_call': {'arguments': '{\"message\":\"black yellow blue green\",\"recipient\":\"alex@xyz.com\"}', 'name': 'send_message_by_email'}}, response_metadata={'token_usage': {'completion_tokens': 26, 'prompt_tokens': 217, 'total_tokens': 243}, 'model_name': 'gpt-3.5-turbo-0125', 'system_fingerprint': None, 'finish_reason': 'function_call', 'logprobs': None}, id='run-18bb1686-04d3-42c3-abb0-a472071a6691-0', usage_metadata={'input_tokens': 217, 'output_tokens': 26, 'total_tokens': 243})"
      ]
     },
     "execution_count": 13,
     "metadata": {},
     "output_type": "execute_result"
    }
   ],
   "execution_count": 13
  },
  {
   "cell_type": "code",
   "source": [
    "# Again get function name, and its arguments\n",
    "\n",
    "function_name = second_response.additional_kwargs[\"function_call\"][\"name\"]\n",
    "arguments = json.loads(second_response.additional_kwargs[\"function_call\"][\"arguments\"])\n",
    "\n",
    "# Locate the function and make the call\n",
    "the_function = globals().get(function_name)\n",
    "parameter_names = get_function_parameter_names(the_function)\n",
    "parameter_values = []\n",
    "for parameter_name in parameter_names:\n",
    "  parameter_values.append(arguments[parameter_name])\n",
    "\n",
    "returned_value = the_function(*parameter_values)\n",
    "returned_value"
   ],
   "metadata": {
    "collapsed": false,
    "ExecuteTime": {
     "end_time": "2024-07-20T01:59:23.512255Z",
     "start_time": "2024-07-20T01:59:23.494846Z"
    }
   },
   "id": "589d0eefbde7a441",
   "outputs": [
    {
     "name": "stdout",
     "output_type": "stream",
     "text": [
      "Sending black yellow blue green to alex@xyz.com\n"
     ]
    },
    {
     "data": {
      "text/plain": [
       "'Just sent email to alex@xyz.com'"
      ]
     },
     "execution_count": 14,
     "metadata": {},
     "output_type": "execute_result"
    }
   ],
   "execution_count": 14
  },
  {
   "cell_type": "code",
   "source": [
    "third_response = llm.invoke(\n",
    "    [\n",
    "        HumanMessage(content=question),\n",
    "        AIMessage(content=str(first_response.additional_kwargs)),\n",
    "        AIMessage(content=str(second_response.additional_kwargs)),\n",
    "        ChatMessage(\n",
    "            role='function',\n",
    "            additional_kwargs = {'name': function_name},\n",
    "            content = returned_value\n",
    "        )\n",
    "    ], functions=function_descriptions\n",
    ")\n",
    "third_response"
   ],
   "metadata": {
    "collapsed": false,
    "ExecuteTime": {
     "end_time": "2024-07-20T01:59:32.927597Z",
     "start_time": "2024-07-20T01:59:29.718343Z"
    }
   },
   "id": "7703354b4fa031f9",
   "outputs": [
    {
     "data": {
      "text/plain": [
       "AIMessage(content='I have removed the third word from the string, and I have sent the updated string to Alex via email.', response_metadata={'token_usage': {'completion_tokens': 23, 'prompt_tokens': 257, 'total_tokens': 280}, 'model_name': 'gpt-3.5-turbo-0125', 'system_fingerprint': '', 'finish_reason': 'stop', 'logprobs': None}, id='run-dfea30f6-2fea-4dfd-b99d-ac4159883ccb-0', usage_metadata={'input_tokens': 257, 'output_tokens': 23, 'total_tokens': 280})"
      ]
     },
     "execution_count": 15,
     "metadata": {},
     "output_type": "execute_result"
    }
   ],
   "execution_count": 15
  },
  {
   "cell_type": "code",
   "execution_count": 15,
   "outputs": [],
   "source": [],
   "metadata": {
    "collapsed": false,
    "ExecuteTime": {
     "end_time": "2024-03-16T14:46:33.790701Z",
     "start_time": "2024-03-16T14:46:33.715995Z"
    }
   },
   "id": "c972dd7a7eaefa8c"
  }
 ],
 "metadata": {
  "kernelspec": {
   "display_name": "Python 3",
   "language": "python",
   "name": "python3"
  },
  "language_info": {
   "codemirror_mode": {
    "name": "ipython",
    "version": 2
   },
   "file_extension": ".py",
   "mimetype": "text/x-python",
   "name": "python",
   "nbconvert_exporter": "python",
   "pygments_lexer": "ipython2",
   "version": "2.7.6"
  }
 },
 "nbformat": 4,
 "nbformat_minor": 5
}
