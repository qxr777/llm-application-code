{
 "cells": [
  {
   "metadata": {},
   "cell_type": "markdown",
   "source": "## 示例：调用天气API",
   "id": "8cc3a22623fca4eb"
  },
  {
   "metadata": {
    "ExecuteTime": {
     "end_time": "2025-04-20T05:30:41.372852Z",
     "start_time": "2025-04-20T05:30:41.362859Z"
    }
   },
   "cell_type": "code",
   "source": [
    "from dotenv import load_dotenv\n",
    "load_dotenv(override=True)\n",
    "\n",
    "# import os\n",
    "# os.environ['OPENAI_API_KEY'] = 'sk-123456789'\n",
    "\n",
    "# import os\n",
    "# from google.colab import userdata\n",
    "# os.environ[\"OPENAI_API_KEY\"] = userdata.get('OPENAI_API_KEY')"
   ],
   "id": "f01b8d36dc87d114",
   "outputs": [
    {
     "data": {
      "text/plain": [
       "True"
      ]
     },
     "execution_count": 1,
     "metadata": {},
     "output_type": "execute_result"
    }
   ],
   "execution_count": 1
  },
  {
   "metadata": {
    "ExecuteTime": {
     "end_time": "2025-04-20T05:30:43.818108Z",
     "start_time": "2025-04-20T05:30:42.272987Z"
    }
   },
   "cell_type": "code",
   "source": [
    "from langchain_openai import ChatOpenAI\n",
    "\n",
    "model = 'gpt-3.5-turbo-0613'\n",
    "llm = ChatOpenAI(model=model)"
   ],
   "id": "61a2c98601573bde",
   "outputs": [],
   "execution_count": 2
  },
  {
   "metadata": {
    "ExecuteTime": {
     "end_time": "2025-04-20T05:30:45.283696Z",
     "start_time": "2025-04-20T05:30:45.268011Z"
    }
   },
   "cell_type": "code",
   "source": [
    "import requests\n",
    "import json\n",
    "import os\n",
    "from langchain_core.tools import tool\n",
    "\n",
    "# 这里需要替换为你自己的OpenWeatherMap API密钥\n",
    "open_weather_key = os.getenv(\"OPEN_WEATHER_API_KEY\")\n",
    "\n",
    "@tool\n",
    "def get_weather(loc):\n",
    "    \"\"\"\n",
    "    查询即时天气函数\n",
    "    :param loc: 必要参数，字符串类型，用于表示查询天气的具体城市名称，\n",
    "                注意，中国的城市需要用对应城市的英文名称代替，例如如果需要查询北京市天气，则loc参数需要输入'Beijing'；\n",
    "    :return: OpenWeather API查询即时天气的结果，具体URL请求地址为: https://api.openweathermap.org/data/2.5/weather\n",
    "             返回结果对象类型为解析之后的JSON格式对象，并用字符串形式进行表示，其中包含了全部重要的天气信息\n",
    "    \"\"\"\n",
    "    # Step 1.构建请求\n",
    "    url = \"https://api.openweathermap.org/data/2.5/weather\"\n",
    "    # Step 2.设置查询参数\n",
    "    params = {\n",
    "        \"q\": loc,\n",
    "        \"appid\": open_weather_key,  # 输入API key\n",
    "        \"units\": \"metric\",  # 使用摄氏度而不是华氏度\n",
    "        \"lang\": \"zh_cn\"  # 输出语言为简体中文\n",
    "    }\n",
    "    # Step 3.发送GET请求\n",
    "    response = requests.get(url, params=params)\n",
    "    # Step 4.解析响应\n",
    "    data = response.json()\n",
    "    return json.dumps(data)\n",
    "\n",
    "tools = [get_weather]\n",
    "llm_with_tools = llm.bind_tools(tools)"
   ],
   "id": "72e10055b118efce",
   "outputs": [],
   "execution_count": 3
  },
  {
   "metadata": {
    "ExecuteTime": {
     "end_time": "2025-04-20T05:31:12.173767Z",
     "start_time": "2025-04-20T05:31:10.080186Z"
    }
   },
   "cell_type": "code",
   "source": [
    "query = \"请问北京今天天气如何？\"\n",
    "llm_with_tools.invoke(query).tool_calls"
   ],
   "id": "f2d63fa4e4029f6a",
   "outputs": [
    {
     "data": {
      "text/plain": [
       "[{'name': 'get_weather',\n",
       "  'args': {'loc': 'Beijing'},\n",
       "  'id': 'call_VPuTJdrss1AHpOCyhQfRlUsr',\n",
       "  'type': 'tool_call'}]"
      ]
     },
     "execution_count": 5,
     "metadata": {},
     "output_type": "execute_result"
    }
   ],
   "execution_count": 5
  },
  {
   "metadata": {
    "ExecuteTime": {
     "end_time": "2025-04-20T05:33:18.447360Z",
     "start_time": "2025-04-20T05:33:15.835070Z"
    }
   },
   "cell_type": "code",
   "source": [
    "from langchain_core.messages import HumanMessage, ToolMessage\n",
    "\n",
    "messages = [HumanMessage(query)]\n",
    "ai_msg = llm_with_tools.invoke(messages)\n",
    "messages.append(ai_msg)\n",
    "for tool_call in ai_msg.tool_calls:\n",
    "    selected_tool = {\"get_weather\": get_weather}[tool_call[\"name\"].lower()]\n",
    "    tool_output = selected_tool.invoke(tool_call[\"args\"])\n",
    "    messages.append(ToolMessage(tool_output, tool_call_id=tool_call[\"id\"]))\n",
    "messages"
   ],
   "id": "9402cd9591054f39",
   "outputs": [
    {
     "data": {
      "text/plain": [
       "[HumanMessage(content='请问北京今天天气如何？', additional_kwargs={}, response_metadata={}),\n",
       " AIMessage(content='', additional_kwargs={'tool_calls': [{'id': 'call_qcmGczIBXx1I9UNBPLjbvomH', 'function': {'arguments': '{\"loc\":\"Beijing\"}', 'name': 'get_weather'}, 'type': 'function'}], 'refusal': None}, response_metadata={'token_usage': {'completion_tokens': 15, 'prompt_tokens': 195, 'total_tokens': 210, 'completion_tokens_details': None, 'prompt_tokens_details': None}, 'model_name': 'gpt-3.5-turbo-0125', 'system_fingerprint': 'fp_0165350fbb', 'finish_reason': 'tool_calls', 'logprobs': None}, id='run-d6330ae9-9562-444e-85cf-eb321b28612a-0', tool_calls=[{'name': 'get_weather', 'args': {'loc': 'Beijing'}, 'id': 'call_qcmGczIBXx1I9UNBPLjbvomH', 'type': 'tool_call'}], usage_metadata={'input_tokens': 195, 'output_tokens': 15, 'total_tokens': 210, 'input_token_details': {}, 'output_token_details': {}}),\n",
       " ToolMessage(content='{\"coord\": {\"lon\": 116.3972, \"lat\": 39.9075}, \"weather\": [{\"id\": 803, \"main\": \"Clouds\", \"description\": \"\\\\u591a\\\\u4e91\", \"icon\": \"04d\"}], \"base\": \"stations\", \"main\": {\"temp\": 21.94, \"feels_like\": 21.26, \"temp_min\": 21.94, \"temp_max\": 21.94, \"pressure\": 1012, \"humidity\": 41, \"sea_level\": 1012, \"grnd_level\": 1006}, \"visibility\": 10000, \"wind\": {\"speed\": 3.33, \"deg\": 194, \"gust\": 6.25}, \"clouds\": {\"all\": 77}, \"dt\": 1745126644, \"sys\": {\"type\": 1, \"id\": 9609, \"country\": \"CN\", \"sunrise\": 1745098176, \"sunset\": 1745146604}, \"timezone\": 28800, \"id\": 1816670, \"name\": \"Beijing\", \"cod\": 200}', tool_call_id='call_qcmGczIBXx1I9UNBPLjbvomH')]"
      ]
     },
     "execution_count": 6,
     "metadata": {},
     "output_type": "execute_result"
    }
   ],
   "execution_count": 6
  },
  {
   "metadata": {
    "ExecuteTime": {
     "end_time": "2025-04-20T05:36:06.300628Z",
     "start_time": "2025-04-20T05:36:03.530188Z"
    }
   },
   "cell_type": "code",
   "source": "llm_with_tools.invoke(messages).content",
   "id": "d4e883382b950c85",
   "outputs": [
    {
     "data": {
      "text/plain": [
       "'北京今天的天气情况如下：\\n- 天气状况：多云\\n- 温度：21.94°C\\n- 最高温度：21.94°C\\n- 最低温度：21.94°C\\n- 湿度：41%\\n- 风速：3.33 m/s\\n\\n请问还有什么可以帮助您的吗？'"
      ]
     },
     "execution_count": 8,
     "metadata": {},
     "output_type": "execute_result"
    }
   ],
   "execution_count": 8
  },
  {
   "metadata": {},
   "cell_type": "code",
   "outputs": [],
   "execution_count": null,
   "source": "",
   "id": "8a36688f2c61a06e"
  }
 ],
 "metadata": {
  "kernelspec": {
   "display_name": "Python 3",
   "language": "python",
   "name": "python3"
  },
  "language_info": {
   "codemirror_mode": {
    "name": "ipython",
    "version": 2
   },
   "file_extension": ".py",
   "mimetype": "text/x-python",
   "name": "python",
   "nbconvert_exporter": "python",
   "pygments_lexer": "ipython2",
   "version": "2.7.6"
  }
 },
 "nbformat": 4,
 "nbformat_minor": 5
}
