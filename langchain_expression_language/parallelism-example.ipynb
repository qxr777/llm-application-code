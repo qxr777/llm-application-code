{
 "cells": [
  {
   "cell_type": "code",
   "id": "initial_id",
   "metadata": {
    "collapsed": true,
    "ExecuteTime": {
     "end_time": "2024-07-20T01:37:45.025567Z",
     "start_time": "2024-07-20T01:37:44.059089Z"
    }
   },
   "source": [
    "!pip install --upgrade --quiet  langchain-core langchain-community langchain-openai grandalf"
   ],
   "outputs": [],
   "execution_count": 1
  },
  {
   "cell_type": "markdown",
   "source": [
    "<a href=\"https://colab.research.google.com/github/qxr777/llm-application-code/blob/master/langchain_expression_language/parallelism-example.ipynb\" target=\"_parent\">Open In Colab</a>"
   ],
   "metadata": {
    "collapsed": false
   },
   "id": "de32d617adef75a"
  },
  {
   "cell_type": "code",
   "source": [
    "# 三选一 加载OPENAI_API_KEY\n",
    "\n",
    "# 本地运行，包含.env文件\n",
    "from dotenv import load_dotenv\n",
    "load_dotenv()\n",
    "\n",
    "# 本地运行，不包含.env文件\n",
    "# import os\n",
    "# os.environ['OPENAI_API_KEY'] = 'sk-123456789'\n",
    "\n",
    "# google colab运行，需要配置secret key\n",
    "# import os\n",
    "# from google.colab import userdata\n",
    "# os.environ[\"OPENAI_API_KEY\"] = userdata.get('OPENAI_API_KEY')"
   ],
   "metadata": {
    "collapsed": false,
    "ExecuteTime": {
     "end_time": "2024-07-20T01:37:47.509768Z",
     "start_time": "2024-07-20T01:37:47.498751Z"
    }
   },
   "id": "5bc454e3a9558a4d",
   "outputs": [
    {
     "data": {
      "text/plain": [
       "True"
      ]
     },
     "execution_count": 2,
     "metadata": {},
     "output_type": "execute_result"
    }
   ],
   "execution_count": 2
  },
  {
   "cell_type": "code",
   "source": [
    "from langchain_openai import ChatOpenAI\n",
    "from langchain_core.prompts import ChatPromptTemplate\n",
    "from langchain_core.runnables import RunnableParallel\n",
    "\n",
    "model = ChatOpenAI()\n",
    "chain1 = ChatPromptTemplate.from_template(\"tell me a joke about {topic}\") | model\n",
    "chain2 = (\n",
    "    ChatPromptTemplate.from_template(\"write a short (2 line) poem about {topic}\")\n",
    "    | model\n",
    ")\n",
    "combined = RunnableParallel(joke=chain1, poem=chain2)\n",
    "\n",
    "# 打印chain的计算图\n",
    "combined.get_graph().print_ascii()"
   ],
   "metadata": {
    "collapsed": false,
    "ExecuteTime": {
     "end_time": "2024-07-20T01:37:49.915927Z",
     "start_time": "2024-07-20T01:37:49.405930Z"
    }
   },
   "id": "bc75c45600755a13",
   "outputs": [
    {
     "name": "stdout",
     "output_type": "stream",
     "text": [
      "               +--------------------------+                \n",
      "               | Parallel<joke,poem>Input |                \n",
      "               +--------------------------+                \n",
      "                   ***               ***                   \n",
      "                ***                     ***                \n",
      "              **                           **              \n",
      "+--------------------+              +--------------------+ \n",
      "| ChatPromptTemplate |              | ChatPromptTemplate | \n",
      "+--------------------+              +--------------------+ \n",
      "           *                                   *           \n",
      "           *                                   *           \n",
      "           *                                   *           \n",
      "    +------------+                      +------------+     \n",
      "    | ChatOpenAI |                      | ChatOpenAI |     \n",
      "    +------------+*                     +------------+     \n",
      "                   ***               ***                   \n",
      "                      ***         ***                      \n",
      "                         **     **                         \n",
      "              +---------------------------+                \n",
      "              | Parallel<joke,poem>Output |                \n",
      "              +---------------------------+                \n"
     ]
    }
   ],
   "execution_count": 3
  },
  {
   "cell_type": "code",
   "source": [
    "%%time\n",
    "chain1.invoke({\"topic\": \"bears\"})"
   ],
   "metadata": {
    "collapsed": false,
    "ExecuteTime": {
     "end_time": "2024-07-20T01:37:52.608096Z",
     "start_time": "2024-07-20T01:37:51.249327Z"
    }
   },
   "id": "760fabd5f537af5a",
   "outputs": [
    {
     "name": "stdout",
     "output_type": "stream",
     "text": [
      "CPU times: user 42.8 ms, sys: 17.7 ms, total: 60.5 ms\n",
      "Wall time: 1.35 s\n"
     ]
    },
    {
     "data": {
      "text/plain": [
       "AIMessage(content='Why did the bear bring a flashlight to the party? \\nBecause he heard it was going to be a bear-y bright affair!', response_metadata={'token_usage': {'completion_tokens': 26, 'prompt_tokens': 13, 'total_tokens': 39}, 'model_name': 'gpt-3.5-turbo-0125', 'system_fingerprint': None, 'finish_reason': 'stop', 'logprobs': None}, id='run-fa071f42-0d58-41df-802c-970648254030-0', usage_metadata={'input_tokens': 13, 'output_tokens': 26, 'total_tokens': 39})"
      ]
     },
     "execution_count": 4,
     "metadata": {},
     "output_type": "execute_result"
    }
   ],
   "execution_count": 4
  },
  {
   "cell_type": "code",
   "source": [
    "%%time\n",
    "chain2.invoke({\"topic\": \"bears\"})"
   ],
   "metadata": {
    "collapsed": false,
    "ExecuteTime": {
     "end_time": "2024-07-20T01:37:54.623817Z",
     "start_time": "2024-07-20T01:37:53.632263Z"
    }
   },
   "id": "6ab6c0a477f2c6ab",
   "outputs": [
    {
     "name": "stdout",
     "output_type": "stream",
     "text": [
      "CPU times: user 13.6 ms, sys: 2.99 ms, total: 16.6 ms\n",
      "Wall time: 987 ms\n"
     ]
    },
    {
     "data": {
      "text/plain": [
       "AIMessage(content='Majestic creatures of the wild,\\nIn their strength and beauty, they beguile.', response_metadata={'token_usage': {'completion_tokens': 19, 'prompt_tokens': 17, 'total_tokens': 36}, 'model_name': 'gpt-3.5-turbo-0125', 'system_fingerprint': None, 'finish_reason': 'stop', 'logprobs': None}, id='run-ceb0b980-9fdc-41a5-a498-eb02d9b8820c-0', usage_metadata={'input_tokens': 17, 'output_tokens': 19, 'total_tokens': 36})"
      ]
     },
     "execution_count": 5,
     "metadata": {},
     "output_type": "execute_result"
    }
   ],
   "execution_count": 5
  },
  {
   "cell_type": "code",
   "source": [
    "%%time\n",
    "combined.invoke({\"topic\": \"bears\"})"
   ],
   "metadata": {
    "collapsed": false,
    "ExecuteTime": {
     "end_time": "2024-07-20T01:37:56.515006Z",
     "start_time": "2024-07-20T01:37:55.383846Z"
    }
   },
   "id": "e72a516160a5c849",
   "outputs": [
    {
     "name": "stdout",
     "output_type": "stream",
     "text": [
      "CPU times: user 34.2 ms, sys: 6.63 ms, total: 40.8 ms\n",
      "Wall time: 1.13 s\n"
     ]
    },
    {
     "data": {
      "text/plain": [
       "{'joke': AIMessage(content='Why did the bear break up with his girlfriend?\\nBecause she was unbearable!', response_metadata={'token_usage': {'completion_tokens': 15, 'prompt_tokens': 13, 'total_tokens': 28}, 'model_name': 'gpt-3.5-turbo-0125', 'system_fingerprint': None, 'finish_reason': 'stop', 'logprobs': None}, id='run-5b76d595-13d5-48be-9d5f-0bc1b9dd8179-0', usage_metadata={'input_tokens': 13, 'output_tokens': 15, 'total_tokens': 28}),\n",
       " 'poem': AIMessage(content='Gentle giants of the forest,\\nBears roam with strength and grace.', response_metadata={'token_usage': {'completion_tokens': 16, 'prompt_tokens': 17, 'total_tokens': 33}, 'model_name': 'gpt-3.5-turbo-0125', 'system_fingerprint': None, 'finish_reason': 'stop', 'logprobs': None}, id='run-11073e5d-4031-4c07-a5ce-858f3f32f239-0', usage_metadata={'input_tokens': 17, 'output_tokens': 16, 'total_tokens': 33})}"
      ]
     },
     "execution_count": 6,
     "metadata": {},
     "output_type": "execute_result"
    }
   ],
   "execution_count": 6
  },
  {
   "cell_type": "code",
   "execution_count": null,
   "outputs": [],
   "source": [],
   "metadata": {
    "collapsed": false
   },
   "id": "efcb3021f64b6261"
  }
 ],
 "metadata": {
  "kernelspec": {
   "display_name": "Python 3",
   "language": "python",
   "name": "python3"
  },
  "language_info": {
   "codemirror_mode": {
    "name": "ipython",
    "version": 2
   },
   "file_extension": ".py",
   "mimetype": "text/x-python",
   "name": "python",
   "nbconvert_exporter": "python",
   "pygments_lexer": "ipython2",
   "version": "2.7.6"
  }
 },
 "nbformat": 4,
 "nbformat_minor": 5
}
