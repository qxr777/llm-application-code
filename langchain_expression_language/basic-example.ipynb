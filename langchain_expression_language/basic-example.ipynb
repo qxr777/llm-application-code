{
 "cells": [
  {
   "cell_type": "code",
   "execution_count": 1,
   "id": "initial_id",
   "metadata": {
    "collapsed": true,
    "ExecuteTime": {
     "end_time": "2024-04-01T23:34:17.079658Z",
     "start_time": "2024-04-01T23:34:00.521980Z"
    }
   },
   "outputs": [
    {
     "name": "stdout",
     "output_type": "stream",
     "text": [
      "\u001B[31mERROR: pip's dependency resolver does not currently take into account all the packages that are installed. This behaviour is the source of the following dependency conflicts.\r\n",
      "openai-functions-tool-retrieval-agent 0.0.1 requires tiktoken<0.6.0,>=0.5.1, but you have tiktoken 0.6.0 which is incompatible.\u001B[0m\u001B[31m\r\n",
      "\u001B[0m"
     ]
    }
   ],
   "source": [
    "!pip install --upgrade --quiet  langchain-core langchain-community langchain-openai"
   ]
  },
  {
   "cell_type": "markdown",
   "source": [
    "<a href=\"https://colab.research.google.com/github/qxr777/llm-application-code/blob/master/langchain_expression_language/basic-example.ipynb\" target=\"_parent\">Open In Colab</a>"
   ],
   "metadata": {
    "collapsed": false
   },
   "id": "36c5f9f12fd71052"
  },
  {
   "cell_type": "code",
   "execution_count": null,
   "outputs": [],
   "source": [
    "# 三选一 加载OPENAI_API_KEY\n",
    "\n",
    "# 本地运行，包含.env文件\n",
    "# from dotenv import load_dotenv\n",
    "# load_dotenv()\n",
    "\n",
    "# 本地运行，不包含.env文件\n",
    "# import os\n",
    "# os.environ['OPENAI_API_KEY'] = 'sk-123456789'\n",
    "\n",
    "# google colab运行，需要配置secret key\n",
    "import os\n",
    "from google.colab import userdata\n",
    "os.environ[\"OPENAI_API_KEY\"] = userdata.get('OPENAI_API_KEY')"
   ],
   "metadata": {
    "collapsed": false
   },
   "id": "67d341646de00b85"
  },
  {
   "cell_type": "code",
   "execution_count": 2,
   "outputs": [],
   "source": [
    "from langchain_core.runnables import RunnablePassthrough\n",
    "from langchain_core.output_parsers import StrOutputParser\n",
    "from langchain_core.prompts import ChatPromptTemplate\n",
    "from langchain_openai import ChatOpenAI\n",
    "\n",
    "prompt = ChatPromptTemplate.from_template(\"tell me a short joke about {topic}\")\n",
    "model = ChatOpenAI()\n",
    "output_parser = StrOutputParser()\n",
    "\n",
    "chain =  {\"topic\": RunnablePassthrough()} | prompt | model | output_parser"
   ],
   "metadata": {
    "collapsed": false,
    "ExecuteTime": {
     "end_time": "2024-04-01T23:34:28.981189Z",
     "start_time": "2024-04-01T23:34:23.677224Z"
    }
   },
   "id": "6d345a0f7a2b72eb"
  },
  {
   "cell_type": "markdown",
   "source": [
    "![lcel-basic-example.png](../asserts/img/lcel-basic-example.png \"basic-example\")"
   ],
   "metadata": {
    "collapsed": false
   },
   "id": "8d78ec77cd17738b"
  },
  {
   "cell_type": "code",
   "execution_count": 3,
   "outputs": [
    {
     "data": {
      "text/plain": "'Why did the ice cream go to therapy? Because it had too many sprinkles of anxiety!'"
     },
     "execution_count": 3,
     "metadata": {},
     "output_type": "execute_result"
    }
   ],
   "source": [
    "chain.invoke({\"topic\": \"ice cream\"})"
   ],
   "metadata": {
    "collapsed": false,
    "ExecuteTime": {
     "end_time": "2024-04-01T23:34:38.509176Z",
     "start_time": "2024-04-01T23:34:36.869302Z"
    }
   },
   "id": "e00e60d04855e380"
  },
  {
   "cell_type": "markdown",
   "source": [
    "## 对多个输入并行运行"
   ],
   "metadata": {
    "collapsed": false
   },
   "id": "a97aaa6d312fc10a"
  },
  {
   "cell_type": "code",
   "execution_count": 4,
   "outputs": [
    {
     "data": {
      "text/plain": "['Why did the ice cream truck break down?\\n\\nIt had too many \"scoops\"!',\n \"Why did the spaghetti break up with the tomato sauce? Because it couldn't handle the pressure of being sauced all the time!\",\n 'Why did the dumpling go to the party? Because it wanted to get steamed!']"
     },
     "execution_count": 4,
     "metadata": {},
     "output_type": "execute_result"
    }
   ],
   "source": [
    "chain.batch([\"ice cream\", \"spaghetti\", \"dumplings\"])"
   ],
   "metadata": {
    "collapsed": false,
    "ExecuteTime": {
     "end_time": "2024-04-01T23:34:52.945103Z",
     "start_time": "2024-04-01T23:34:50.225706Z"
    }
   },
   "id": "ed59680e4f5e5a44"
  },
  {
   "cell_type": "code",
   "execution_count": null,
   "outputs": [],
   "source": [],
   "metadata": {
    "collapsed": false
   },
   "id": "7d720f00c0d5e880"
  }
 ],
 "metadata": {
  "kernelspec": {
   "display_name": "Python 3",
   "language": "python",
   "name": "python3"
  },
  "language_info": {
   "codemirror_mode": {
    "name": "ipython",
    "version": 2
   },
   "file_extension": ".py",
   "mimetype": "text/x-python",
   "name": "python",
   "nbconvert_exporter": "python",
   "pygments_lexer": "ipython2",
   "version": "2.7.6"
  }
 },
 "nbformat": 4,
 "nbformat_minor": 5
}
