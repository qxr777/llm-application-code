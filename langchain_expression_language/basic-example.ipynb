{
 "cells": [
  {
   "cell_type": "code",
   "id": "initial_id",
   "metadata": {
    "collapsed": true,
    "jupyter": {
     "outputs_hidden": true
    },
    "ExecuteTime": {
     "end_time": "2024-07-20T02:19:55.708927Z",
     "start_time": "2024-07-20T02:19:54.929989Z"
    }
   },
   "source": [
    "!pip install --upgrade --quiet  langchain-core langchain-community langchain-openai"
   ],
   "outputs": [],
   "execution_count": 1
  },
  {
   "cell_type": "markdown",
   "id": "36c5f9f12fd71052",
   "metadata": {
    "collapsed": false,
    "jupyter": {
     "outputs_hidden": false
    }
   },
   "source": [
    "<a href=\"https://colab.research.google.com/github/qxr777/llm-application-code/blob/master/langchain_expression_language/basic-example.ipynb\" target=\"_parent\">Open In Colab</a>"
   ]
  },
  {
   "cell_type": "code",
   "id": "67d341646de00b85",
   "metadata": {
    "collapsed": false,
    "jupyter": {
     "outputs_hidden": false
    },
    "ExecuteTime": {
     "end_time": "2024-07-20T02:21:29.378330Z",
     "start_time": "2024-07-20T02:21:29.372779Z"
    }
   },
   "source": [
    "# 三选一 加载OPENAI_API_KEY\n",
    "\n",
    "# 本地运行，包含.env文件\n",
    "from dotenv import load_dotenv\n",
    "load_dotenv()\n",
    "\n",
    "# 本地运行，不包含.env文件\n",
    "# import os\n",
    "# os.environ[\"OPENAI_BASE_URL\"] = 'https://api.bianxie.ai/v1'\n",
    "# os.environ[\"OPENAI_API_KEY\"] = 'sk-s6zs9xEAiqC0pOXI2f9c72Fd343942F992D7E57b57A5425f'\n",
    "\n",
    "# google colab运行，需要配置secret key\n",
    "# import os\n",
    "# from google.colab import userdata\n",
    "# os.environ[\"OPENAI_API_KEY\"] = userdata.get('OPENAI_API_KEY')"
   ],
   "outputs": [
    {
     "data": {
      "text/plain": [
       "True"
      ]
     },
     "execution_count": 1,
     "metadata": {},
     "output_type": "execute_result"
    }
   ],
   "execution_count": 1
  },
  {
   "cell_type": "code",
   "id": "6d345a0f7a2b72eb",
   "metadata": {
    "collapsed": false,
    "jupyter": {
     "outputs_hidden": false
    },
    "ExecuteTime": {
     "end_time": "2024-07-20T02:21:30.798338Z",
     "start_time": "2024-07-20T02:21:30.219456Z"
    }
   },
   "source": [
    "from langchain_core.runnables import RunnablePassthrough\n",
    "from langchain_core.output_parsers import StrOutputParser\n",
    "from langchain_core.prompts import ChatPromptTemplate\n",
    "from langchain_openai import ChatOpenAI\n",
    "\n",
    "prompt = ChatPromptTemplate.from_template(\"tell me a short joke about {topic}\")\n",
    "model = ChatOpenAI()\n",
    "output_parser = StrOutputParser()\n",
    "\n",
    "chain =  {\"topic\": RunnablePassthrough()} | prompt | model | output_parser"
   ],
   "outputs": [],
   "execution_count": 2
  },
  {
   "cell_type": "markdown",
   "id": "8d78ec77cd17738b",
   "metadata": {
    "collapsed": false,
    "jupyter": {
     "outputs_hidden": false
    }
   },
   "source": [
    "![lcel-basic-example.png](../asserts/img/lcel-basic-example.png \"basic-example\")"
   ]
  },
  {
   "cell_type": "code",
   "id": "e00e60d04855e380",
   "metadata": {
    "collapsed": false,
    "jupyter": {
     "outputs_hidden": false
    },
    "ExecuteTime": {
     "end_time": "2024-07-20T02:21:33.807432Z",
     "start_time": "2024-07-20T02:21:32.558310Z"
    }
   },
   "source": [
    "chain.invoke({\"topic\": \"ice cream\"})"
   ],
   "outputs": [
    {
     "data": {
      "text/plain": [
       "'Why did the ice cream truck break down? It had too many \"licks\" and not enough \"scoops\"!'"
      ]
     },
     "execution_count": 3,
     "metadata": {},
     "output_type": "execute_result"
    }
   ],
   "execution_count": 3
  },
  {
   "cell_type": "markdown",
   "id": "a97aaa6d312fc10a",
   "metadata": {
    "collapsed": false,
    "jupyter": {
     "outputs_hidden": false
    }
   },
   "source": [
    "## 对多个输入并行运行"
   ]
  },
  {
   "cell_type": "code",
   "id": "ed59680e4f5e5a44",
   "metadata": {
    "collapsed": false,
    "jupyter": {
     "outputs_hidden": false
    },
    "ExecuteTime": {
     "end_time": "2024-07-20T02:21:41.431489Z",
     "start_time": "2024-07-20T02:21:39.400814Z"
    }
   },
   "source": [
    "chain.batch([\"ice cream\", \"spaghetti\", \"dumplings\"])"
   ],
   "outputs": [
    {
     "data": {
      "text/plain": [
       "['Why did the ice cream truck break down? It had too many \"scoops\"!',\n",
       " 'Why did the spaghetti go to the party? Because it was a-pasta-tively delicious time!',\n",
       " 'Why did the dumpling go to the party? Because it wanted to get stuffed!']"
      ]
     },
     "execution_count": 4,
     "metadata": {},
     "output_type": "execute_result"
    }
   ],
   "execution_count": 4
  },
  {
   "cell_type": "code",
   "execution_count": null,
   "id": "7d720f00c0d5e880",
   "metadata": {
    "collapsed": false,
    "jupyter": {
     "outputs_hidden": false
    }
   },
   "outputs": [],
   "source": []
  }
 ],
 "metadata": {
  "kernelspec": {
   "display_name": "Python 3",
   "language": "python",
   "name": "python3"
  },
  "language_info": {
   "codemirror_mode": {
    "name": "ipython",
    "version": 2
   },
   "file_extension": ".py",
   "mimetype": "text/x-python",
   "name": "python",
   "nbconvert_exporter": "python",
   "pygments_lexer": "ipython2",
   "version": "2.7.6"
  }
 },
 "nbformat": 4,
 "nbformat_minor": 5
}
